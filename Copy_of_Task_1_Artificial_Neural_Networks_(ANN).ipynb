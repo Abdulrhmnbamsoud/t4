{
  "cells": [
    {
      "cell_type": "markdown",
      "id": "cda1ba95",
      "metadata": {
        "id": "cda1ba95"
      },
      "source": [
        "# Exam on Artificial Neural Networks (ANN)\n",
        "\n",
        "Welcome the Artificial Neural Networks (ANN) practical exam. In this exam, you will work on a classification task to predict the outcome of incidents involving buses. You are provided with a dataset that records breakdowns and delays in bus operations. Your task is to build, train, and evaluate an ANN model.\n",
        "\n",
        "---\n",
        "\n",
        "## Dataset Overview\n",
        "\n",
        "### **Dataset:**\n",
        "* Just run the command under the `Load Data` section to get the data downloaded and unzipped or you can access it [here](www.kaggle.com/datasets/khaledzsa/bus-breakdown-and-delays)\n",
        "\n",
        "### **Dataset Name:** Bus Breakdown and Delays\n",
        "\n",
        "### **Description:**  \n",
        "The dataset contains records of incidents involving buses that were either running late or experienced a breakdown. Your task is to predict whether the bus was delayed or had a breakdown based on the features provided.\n",
        "\n",
        "### **Features:**\n",
        "The dataset contains the following columns:\n",
        "\n",
        "- `School_Year`\n",
        "- `Busbreakdown_ID`\n",
        "- `Run_Type`\n",
        "- `Bus_No`\n",
        "- `Route_Number`\n",
        "- `Reason`\n",
        "- `Schools_Serviced`\n",
        "- `Occurred_On`\n",
        "- `Created_On`\n",
        "- `Boro`\n",
        "- `Bus_Company_Name`\n",
        "- `How_Long_Delayed`\n",
        "- `Number_Of_Students_On_The_Bus`\n",
        "- `Has_Contractor_Notified_Schools`\n",
        "- `Has_Contractor_Notified_Parents`\n",
        "- `Have_You_Alerted_OPT`\n",
        "- `Informed_On`\n",
        "- `Incident_Number`\n",
        "- `Last_Updated_On`\n",
        "- `Breakdown_or_Running_Late` (Target Column)\n",
        "- `School_Age_or_PreK`"
      ]
    },
    {
      "cell_type": "markdown",
      "id": "4c2b014b",
      "metadata": {
        "id": "4c2b014b"
      },
      "source": [
        "## Load Data"
      ]
    },
    {
      "cell_type": "code",
      "execution_count": 69,
      "id": "98ad02f5",
      "metadata": {
        "colab": {
          "base_uri": "https://localhost:8080/"
        },
        "id": "98ad02f5",
        "outputId": "e4882dab-1746-4e9d-cb2c-8d5f9cc0e73c"
      },
      "outputs": [
        {
          "data": {
            "text/plain": [
              "3"
            ]
          },
          "execution_count": 69,
          "metadata": {},
          "output_type": "execute_result"
        }
      ],
      "source": [
        "#!kaggle datasets download -d khaledzsa/bus-breakdown-and-delays\n",
        "3#!unzip bus-breakdown-and-delays.zip"
      ]
    },
    {
      "cell_type": "markdown",
      "id": "3e39620c",
      "metadata": {
        "id": "3e39620c"
      },
      "source": [
        "## Importing Libraries"
      ]
    },
    {
      "cell_type": "code",
      "execution_count": 70,
      "id": "62381953",
      "metadata": {
        "id": "62381953"
      },
      "outputs": [],
      "source": [
        "import pandas as pd\n",
        "import numpy as np\n",
        "from sklearn.model_selection import train_test_split\n",
        "from sklearn.preprocessing import LabelEncoder, StandardScaler\n",
        "from tensorflow.keras.models import Sequential\n",
        "from tensorflow.keras.layers import Dense\n",
        "import matplotlib.pyplot as plt\n"
      ]
    },
    {
      "cell_type": "code",
      "execution_count": 71,
      "id": "POBp39zO2NWv",
      "metadata": {
        "id": "POBp39zO2NWv"
      },
      "outputs": [
        {
          "data": {
            "text/html": [
              "<div>\n",
              "<style scoped>\n",
              "    .dataframe tbody tr th:only-of-type {\n",
              "        vertical-align: middle;\n",
              "    }\n",
              "\n",
              "    .dataframe tbody tr th {\n",
              "        vertical-align: top;\n",
              "    }\n",
              "\n",
              "    .dataframe thead th {\n",
              "        text-align: right;\n",
              "    }\n",
              "</style>\n",
              "<table border=\"1\" class=\"dataframe\">\n",
              "  <thead>\n",
              "    <tr style=\"text-align: right;\">\n",
              "      <th></th>\n",
              "      <th>School_Year</th>\n",
              "      <th>Busbreakdown_ID</th>\n",
              "      <th>Run_Type</th>\n",
              "      <th>Bus_No</th>\n",
              "      <th>Route_Number</th>\n",
              "      <th>Reason</th>\n",
              "      <th>Schools_Serviced</th>\n",
              "      <th>Occurred_On</th>\n",
              "      <th>Created_On</th>\n",
              "      <th>Boro</th>\n",
              "      <th>...</th>\n",
              "      <th>How_Long_Delayed</th>\n",
              "      <th>Number_Of_Students_On_The_Bus</th>\n",
              "      <th>Has_Contractor_Notified_Schools</th>\n",
              "      <th>Has_Contractor_Notified_Parents</th>\n",
              "      <th>Have_You_Alerted_OPT</th>\n",
              "      <th>Informed_On</th>\n",
              "      <th>Incident_Number</th>\n",
              "      <th>Last_Updated_On</th>\n",
              "      <th>Breakdown_or_Running_Late</th>\n",
              "      <th>School_Age_or_PreK</th>\n",
              "    </tr>\n",
              "  </thead>\n",
              "  <tbody>\n",
              "    <tr>\n",
              "      <th>0</th>\n",
              "      <td>2015-2016</td>\n",
              "      <td>1224901</td>\n",
              "      <td>Pre-K/EI</td>\n",
              "      <td>811</td>\n",
              "      <td>1</td>\n",
              "      <td>Other</td>\n",
              "      <td>C353</td>\n",
              "      <td>10/26/2015 08:30:00 AM</td>\n",
              "      <td>10/26/2015 08:40:00 AM</td>\n",
              "      <td>Bronx</td>\n",
              "      <td>...</td>\n",
              "      <td>10MINUTES</td>\n",
              "      <td>5</td>\n",
              "      <td>Yes</td>\n",
              "      <td>Yes</td>\n",
              "      <td>No</td>\n",
              "      <td>10/26/2015 08:40:00 AM</td>\n",
              "      <td>NaN</td>\n",
              "      <td>10/26/2015 08:40:39 AM</td>\n",
              "      <td>Running Late</td>\n",
              "      <td>Pre-K</td>\n",
              "    </tr>\n",
              "    <tr>\n",
              "      <th>1</th>\n",
              "      <td>2015-2016</td>\n",
              "      <td>1225098</td>\n",
              "      <td>Pre-K/EI</td>\n",
              "      <td>9302</td>\n",
              "      <td>1</td>\n",
              "      <td>Heavy Traffic</td>\n",
              "      <td>C814</td>\n",
              "      <td>10/27/2015 07:10:00 AM</td>\n",
              "      <td>10/27/2015 07:11:00 AM</td>\n",
              "      <td>Bronx</td>\n",
              "      <td>...</td>\n",
              "      <td>25 MINUTES</td>\n",
              "      <td>3</td>\n",
              "      <td>Yes</td>\n",
              "      <td>Yes</td>\n",
              "      <td>No</td>\n",
              "      <td>10/27/2015 07:11:00 AM</td>\n",
              "      <td>NaN</td>\n",
              "      <td>10/27/2015 07:11:22 AM</td>\n",
              "      <td>Running Late</td>\n",
              "      <td>Pre-K</td>\n",
              "    </tr>\n",
              "    <tr>\n",
              "      <th>2</th>\n",
              "      <td>2015-2016</td>\n",
              "      <td>1215800</td>\n",
              "      <td>Pre-K/EI</td>\n",
              "      <td>358</td>\n",
              "      <td>2</td>\n",
              "      <td>Heavy Traffic</td>\n",
              "      <td>C195</td>\n",
              "      <td>09/18/2015 07:36:00 AM</td>\n",
              "      <td>09/18/2015 07:38:00 AM</td>\n",
              "      <td>Bronx</td>\n",
              "      <td>...</td>\n",
              "      <td>15 MINUTES</td>\n",
              "      <td>12</td>\n",
              "      <td>Yes</td>\n",
              "      <td>Yes</td>\n",
              "      <td>Yes</td>\n",
              "      <td>09/18/2015 07:38:00 AM</td>\n",
              "      <td>NaN</td>\n",
              "      <td>09/18/2015 07:38:44 AM</td>\n",
              "      <td>Running Late</td>\n",
              "      <td>Pre-K</td>\n",
              "    </tr>\n",
              "    <tr>\n",
              "      <th>3</th>\n",
              "      <td>2015-2016</td>\n",
              "      <td>1215511</td>\n",
              "      <td>Pre-K/EI</td>\n",
              "      <td>331</td>\n",
              "      <td>2</td>\n",
              "      <td>Other</td>\n",
              "      <td>C178</td>\n",
              "      <td>09/17/2015 08:08:00 AM</td>\n",
              "      <td>09/17/2015 08:12:00 AM</td>\n",
              "      <td>Bronx</td>\n",
              "      <td>...</td>\n",
              "      <td>10 minutes</td>\n",
              "      <td>11</td>\n",
              "      <td>Yes</td>\n",
              "      <td>Yes</td>\n",
              "      <td>Yes</td>\n",
              "      <td>09/17/2015 08:12:00 AM</td>\n",
              "      <td>NaN</td>\n",
              "      <td>09/17/2015 08:12:08 AM</td>\n",
              "      <td>Running Late</td>\n",
              "      <td>Pre-K</td>\n",
              "    </tr>\n",
              "    <tr>\n",
              "      <th>4</th>\n",
              "      <td>2015-2016</td>\n",
              "      <td>1215828</td>\n",
              "      <td>Pre-K/EI</td>\n",
              "      <td>332</td>\n",
              "      <td>2</td>\n",
              "      <td>Other</td>\n",
              "      <td>S176</td>\n",
              "      <td>09/18/2015 07:39:00 AM</td>\n",
              "      <td>09/18/2015 07:45:00 AM</td>\n",
              "      <td>Bronx</td>\n",
              "      <td>...</td>\n",
              "      <td>10MINUTES</td>\n",
              "      <td>12</td>\n",
              "      <td>Yes</td>\n",
              "      <td>Yes</td>\n",
              "      <td>No</td>\n",
              "      <td>09/18/2015 07:45:00 AM</td>\n",
              "      <td>NaN</td>\n",
              "      <td>09/18/2015 07:56:40 AM</td>\n",
              "      <td>Running Late</td>\n",
              "      <td>Pre-K</td>\n",
              "    </tr>\n",
              "  </tbody>\n",
              "</table>\n",
              "<p>5 rows × 21 columns</p>\n",
              "</div>"
            ],
            "text/plain": [
              "  School_Year  Busbreakdown_ID  Run_Type Bus_No Route_Number         Reason  \\\n",
              "0   2015-2016          1224901  Pre-K/EI    811            1          Other   \n",
              "1   2015-2016          1225098  Pre-K/EI   9302            1  Heavy Traffic   \n",
              "2   2015-2016          1215800  Pre-K/EI    358            2  Heavy Traffic   \n",
              "3   2015-2016          1215511  Pre-K/EI    331            2          Other   \n",
              "4   2015-2016          1215828  Pre-K/EI    332            2          Other   \n",
              "\n",
              "  Schools_Serviced             Occurred_On              Created_On   Boro  \\\n",
              "0             C353  10/26/2015 08:30:00 AM  10/26/2015 08:40:00 AM  Bronx   \n",
              "1             C814  10/27/2015 07:10:00 AM  10/27/2015 07:11:00 AM  Bronx   \n",
              "2             C195  09/18/2015 07:36:00 AM  09/18/2015 07:38:00 AM  Bronx   \n",
              "3             C178  09/17/2015 08:08:00 AM  09/17/2015 08:12:00 AM  Bronx   \n",
              "4             S176  09/18/2015 07:39:00 AM  09/18/2015 07:45:00 AM  Bronx   \n",
              "\n",
              "   ... How_Long_Delayed Number_Of_Students_On_The_Bus  \\\n",
              "0  ...        10MINUTES                             5   \n",
              "1  ...       25 MINUTES                             3   \n",
              "2  ...       15 MINUTES                            12   \n",
              "3  ...       10 minutes                            11   \n",
              "4  ...        10MINUTES                            12   \n",
              "\n",
              "   Has_Contractor_Notified_Schools Has_Contractor_Notified_Parents  \\\n",
              "0                              Yes                             Yes   \n",
              "1                              Yes                             Yes   \n",
              "2                              Yes                             Yes   \n",
              "3                              Yes                             Yes   \n",
              "4                              Yes                             Yes   \n",
              "\n",
              "  Have_You_Alerted_OPT             Informed_On Incident_Number  \\\n",
              "0                   No  10/26/2015 08:40:00 AM             NaN   \n",
              "1                   No  10/27/2015 07:11:00 AM             NaN   \n",
              "2                  Yes  09/18/2015 07:38:00 AM             NaN   \n",
              "3                  Yes  09/17/2015 08:12:00 AM             NaN   \n",
              "4                   No  09/18/2015 07:45:00 AM             NaN   \n",
              "\n",
              "          Last_Updated_On Breakdown_or_Running_Late School_Age_or_PreK  \n",
              "0  10/26/2015 08:40:39 AM              Running Late              Pre-K  \n",
              "1  10/27/2015 07:11:22 AM              Running Late              Pre-K  \n",
              "2  09/18/2015 07:38:44 AM              Running Late              Pre-K  \n",
              "3  09/17/2015 08:12:08 AM              Running Late              Pre-K  \n",
              "4  09/18/2015 07:56:40 AM              Running Late              Pre-K  \n",
              "\n",
              "[5 rows x 21 columns]"
            ]
          },
          "execution_count": 71,
          "metadata": {},
          "output_type": "execute_result"
        }
      ],
      "source": [
        "df = pd .read_csv('Bus_Breakdown_and_Delays.csv')\n",
        "df.head()"
      ]
    },
    {
      "cell_type": "code",
      "execution_count": 72,
      "id": "4Y6BOqus3hMq",
      "metadata": {
        "id": "4Y6BOqus3hMq"
      },
      "outputs": [],
      "source": [
        "df.drop_duplicates(inplace=True)"
      ]
    },
    {
      "cell_type": "code",
      "execution_count": null,
      "id": "YoSImONI4Aj-",
      "metadata": {
        "id": "YoSImONI4Aj-"
      },
      "outputs": [],
      "source": []
    },
    {
      "cell_type": "markdown",
      "id": "71ccd4e2",
      "metadata": {
        "id": "71ccd4e2"
      },
      "source": [
        "## Exploratory Data Analysis (EDA)\n",
        "This could include:\n",
        "* **Inspect the dataset**\n",
        "\n",
        "* **Dataset structure**\n",
        "\n",
        "* **Summary statistics**\n",
        "\n",
        "* **Check for missing values**\n",
        "\n",
        "* **Distribution of features**\n",
        "\n",
        "* **Categorical feature analysis**\n",
        "\n",
        "* **Correlation matrix**\n",
        "\n",
        "* **Outlier detection**\n",
        "\n",
        "And add more as needed!"
      ]
    },
    {
      "cell_type": "code",
      "execution_count": 73,
      "id": "0b800b0c",
      "metadata": {
        "id": "0b800b0c"
      },
      "outputs": [
        {
          "name": "stdout",
          "output_type": "stream",
          "text": [
            "<class 'pandas.core.frame.DataFrame'>\n",
            "RangeIndex: 147972 entries, 0 to 147971\n",
            "Data columns (total 21 columns):\n",
            " #   Column                           Non-Null Count   Dtype \n",
            "---  ------                           --------------   ----- \n",
            " 0   School_Year                      147972 non-null  object\n",
            " 1   Busbreakdown_ID                  147972 non-null  int64 \n",
            " 2   Run_Type                         147883 non-null  object\n",
            " 3   Bus_No                           147972 non-null  object\n",
            " 4   Route_Number                     147884 non-null  object\n",
            " 5   Reason                           147870 non-null  object\n",
            " 6   Schools_Serviced                 147972 non-null  object\n",
            " 7   Occurred_On                      147972 non-null  object\n",
            " 8   Created_On                       147972 non-null  object\n",
            " 9   Boro                             141654 non-null  object\n",
            " 10  Bus_Company_Name                 147972 non-null  object\n",
            " 11  How_Long_Delayed                 126342 non-null  object\n",
            " 12  Number_Of_Students_On_The_Bus    147972 non-null  int64 \n",
            " 13  Has_Contractor_Notified_Schools  147972 non-null  object\n",
            " 14  Has_Contractor_Notified_Parents  147972 non-null  object\n",
            " 15  Have_You_Alerted_OPT             147972 non-null  object\n",
            " 16  Informed_On                      147972 non-null  object\n",
            " 17  Incident_Number                  5632 non-null    object\n",
            " 18  Last_Updated_On                  147972 non-null  object\n",
            " 19  Breakdown_or_Running_Late        147972 non-null  object\n",
            " 20  School_Age_or_PreK               147972 non-null  object\n",
            "dtypes: int64(2), object(19)\n",
            "memory usage: 23.7+ MB\n"
          ]
        }
      ],
      "source": [
        "df.info()"
      ]
    },
    {
      "cell_type": "code",
      "execution_count": 74,
      "id": "0Owr72Aq28eO",
      "metadata": {
        "id": "0Owr72Aq28eO"
      },
      "outputs": [
        {
          "data": {
            "text/plain": [
              "School_Year                             0\n",
              "Busbreakdown_ID                         0\n",
              "Run_Type                               89\n",
              "Bus_No                                  0\n",
              "Route_Number                           88\n",
              "Reason                                102\n",
              "Schools_Serviced                        0\n",
              "Occurred_On                             0\n",
              "Created_On                              0\n",
              "Boro                                 6318\n",
              "Bus_Company_Name                        0\n",
              "How_Long_Delayed                    21630\n",
              "Number_Of_Students_On_The_Bus           0\n",
              "Has_Contractor_Notified_Schools         0\n",
              "Has_Contractor_Notified_Parents         0\n",
              "Have_You_Alerted_OPT                    0\n",
              "Informed_On                             0\n",
              "Incident_Number                    142340\n",
              "Last_Updated_On                         0\n",
              "Breakdown_or_Running_Late               0\n",
              "School_Age_or_PreK                      0\n",
              "dtype: int64"
            ]
          },
          "execution_count": 74,
          "metadata": {},
          "output_type": "execute_result"
        }
      ],
      "source": [
        "df.isnull().sum()"
      ]
    },
    {
      "cell_type": "code",
      "execution_count": 75,
      "id": "VNGj1ZC53BPT",
      "metadata": {
        "id": "VNGj1ZC53BPT"
      },
      "outputs": [
        {
          "name": "stdout",
          "output_type": "stream",
          "text": [
            "Unique values before processing:\n",
            "School_Year: ['2015-2016' '2016-2017' '2017-2018' '2019-2020']\n",
            "Busbreakdown_ID: [1224901 1225098 1215800 ... 1353044 1353045 1353046]\n",
            "Run_Type: ['Pre-K/EI' 'Special Ed AM Run' 'General Ed AM Run' 'Special Ed PM Run'\n",
            " 'General Ed PM Run' 'Special Ed Field Trip' 'General Ed Field Trip' nan\n",
            " 'Project Read PM Run' 'Project Read AM Run' 'Project Read Field Trip']\n",
            "Bus_No: ['811' '9302' '358' ... '0096' 'GVC510' 'K9345']\n",
            "Route_Number: ['1' '2' 'P640' ... '012' '29AM' '1409B']\n",
            "Reason: ['Other' 'Heavy Traffic' 'Flat Tire' 'Mechanical Problem'\n",
            " 'Delayed by School' 'Problem Run' 'Late return from Field Trip'\n",
            " 'Won`t Start' 'Weather Conditions' 'Accident' nan]\n",
            "Schools_Serviced: ['C353' 'C814' 'C195' ... 'C148' '02654, 02721,' '04377, 04454, 04658']\n",
            "Occurred_On: ['10/26/2015 08:30:00 AM' '10/27/2015 07:10:00 AM'\n",
            " '09/18/2015 07:36:00 AM' ... '05/25/2017 04:22:00 PM'\n",
            " '05/25/2017 04:27:00 PM' '05/25/2017 04:36:00 PM']\n",
            "Created_On: ['10/26/2015 08:40:00 AM' '10/27/2015 07:11:00 AM'\n",
            " '09/18/2015 07:38:00 AM' ... '05/25/2017 04:28:00 PM'\n",
            " '05/25/2017 04:30:00 PM' '05/25/2017 04:37:00 PM']\n",
            "Boro: ['Bronx' nan 'Queens' 'Brooklyn' 'Nassau County' 'Manhattan' 'Westchester'\n",
            " 'Staten Island' 'All Boroughs' 'Rockland County' 'Connecticut'\n",
            " 'New Jersey']\n",
            "Bus_Company_Name: ['G.V.C., LTD.' 'ACME BUS CORP. (B2321)' 'LORINDA ENT. LTD.'\n",
            " 'L & M BUS CORP.' 'BORO TRANSIT, INC.' 'NEW DAWN TRANSIT, LLC (B2'\n",
            " 'LOGAN BUS COMPANY INC.' 'HAPPY CHILD TRANS LLC (B2'\n",
            " 'BOBBY`S BUS CO. INC.' 'LEESEL TRANSP CORP (B2192' 'SNT BUS INC'\n",
            " 'MAR-CAN TRANSPORT CO. INC' 'LEESEL TRANSP CORP (B2192)'\n",
            " 'LITTLE RICHIE BUS SERVICE' 'B & F SKILLED INC.(B2192)'\n",
            " 'EMPIRE CHARTER SERVICE IN' 'PHILLIP BUS CORP (B2192)'\n",
            " 'ALLIED TRANSIT CORP.' 'RELIANT TRANS, INC. (B232' 'G.V.C. LTD. (B2192)'\n",
            " 'CONSOLIDATED BUS TRANS. I' 'LORISSA BUS SERVICE INC.'\n",
            " 'PIONEER TRANSPORTATION CO' 'HOYT TRANSPORTATION CORP.'\n",
            " 'GRANDPA`S BUS CO., INC.' 'PENNY TRANSPORTATION' 'FIRST STEPS'\n",
            " 'VAN TRANS LLC (B2192)' 'DON THOMAS BUSES, INC.' 'ANOTHER RIDE INC.'\n",
            " 'L & M BUS CORP. (B2192)' 'LOGAN TRANSPORTATION SYST'\n",
            " 'MUTUAL BUS CORP. (B2192)' 'FIRST STEPS TRANSP INC. ('\n",
            " 'L & M BUS CORP. (B2321)' 'SAFE COACH INC. (B2321)'\n",
            " 'ALL AMERICAN SCHOOL BUS C' 'MUTUAL BUS CORP. (B2321)'\n",
            " 'PRIDE TRANSPORTATION (SCH' 'QUALITY TRANSPORTATION CO'\n",
            " 'JOFAZ TRANSPORTATION INC.' 'MONTAUK STUDENT TRANS, IN'\n",
            " 'NEW DAWN TRANSIT, LLC (B2321)' 'TWENTY FIRST AV TRANSP (B' 'CAREFUL BUS'\n",
            " 'EMPIRE STATE BUS CORP.' 'ALL COUNTY BUS LLC (B2321'\n",
            " 'DON THOMAS BUSES, INC. (B' 'ALINA SERVICES CORP.' 'SMART PICK' 'MJT BUS'\n",
            " 'Y & M TRANSIT CORP (B2192' 'LITTLE LISA BUS CO. INC.'\n",
            " 'MV TRANSPORTATION, INC.' 'THOMAS BUSES, INC. (B2321'\n",
            " 'PHILLIPS BUS SERVICE' 'LITTLE LINDA BUS CO.,INC.'\n",
            " 'PIONEER TRANSPORTATION CORP' 'CHILDREN`S TRANS INC. (B2'\n",
            " 'THOMAS BUSES, INC.' 'Y & M TRANSIT CORP (B2321'\n",
            " 'THOMAS BUSES INC (B2192)' 'RELIANT TRANS, INC. (B2321)'\n",
            " 'L & M BUS CORP (A)' 'IC BUS INC. (PRE-K)' 'SELBY TRANS CORP. (B2192)'\n",
            " 'MAR-CAN TRANSPORT CO. INC (B2192)' 'I & Y TRANSIT CORP'\n",
            " 'EMPIRE CHARTER SERVICE INC' 'Y & M TRANSIT CORP (B2192)'\n",
            " 'ALL AMERICAN SCHOOL BUS CORP.' 'CAREFUL BUS SERVICE INC ('\n",
            " 'THIRD AVENUE TRANSIT' 'VINNY`S BUS SERVICES (B23'\n",
            " 'LOGAN TRANSPORTATION SYSTEMS' 'DON THOMAS BUSES, INC. (B2321)'\n",
            " 'FIRST STEPS TRANSP INC. (B2192)' 'FORTUNA BUS COMPANY'\n",
            " 'R & C TRANSIT, INC. (B232' 'HAPPY CHILD TRANS LLC (B2192)'\n",
            " 'CONSOLIDATED BUS TRANS. INC.' 'MONTAUK STUDENT TRANS LLC' 'alina'\n",
            " 'QUALITY TRANSPORTATION CORP.' 'RELIANT TRANS, INC.' 'VAN TRANS LLC'\n",
            " 'PRIDE TRANSPORTATION (SCH AGE)' 'phillip bus service' 'ADDIES'\n",
            " 'SAFE COACH INC.' 'SELBY TRANSPORTATION']\n",
            "How_Long_Delayed: ['10MINUTES' '25 MINUTES' '15 MINUTES' ... '40 -50 MIN' '80 MIN'\n",
            " '45 MINIUTE']\n",
            "Number_Of_Students_On_The_Bus: [   5    3   12   11    4    0    2    1    6   15   18    8    7   13\n",
            "   20    9   14   23   10   50   22 1492   19   25   17   26   44   27\n",
            "   31 1424   16   30   46  207  102 1011   21 1401   28   33 1371   37\n",
            "   76   52   40   24   51 1465 1329   32   65   29 1472   47   35 1315\n",
            " 1749   43 1420 1352 1500   60   45 1449   41  500 2368  138  156 9007\n",
            " 2154   36   55 2312 4802   38   42   48 2045  430  610 5554 3112 2680\n",
            "   49 2844   39   34 4533   63 6219 2252 1240   66   53 2085   54  105\n",
            " 2905  209  157  172 2365   58 1177   81  612  109  331 1331   91 2063\n",
            " 1402 1434 1411 5718 2550 2327 6209 2346 1384  280 2855]\n",
            "Has_Contractor_Notified_Schools: ['Yes' 'No']\n",
            "Has_Contractor_Notified_Parents: ['Yes' 'No']\n",
            "Have_You_Alerted_OPT: ['No' 'Yes']\n",
            "Informed_On: ['10/26/2015 08:40:00 AM' '10/27/2015 07:11:00 AM'\n",
            " '09/18/2015 07:38:00 AM' ... '05/25/2017 04:28:00 PM'\n",
            " '05/25/2017 04:30:00 PM' '05/25/2017 04:37:00 PM']\n",
            "Incident_Number: [nan '2725956' '2776550' ... '90330033' '90333015' '90323827']\n",
            "Last_Updated_On: ['10/26/2015 08:40:39 AM' '10/27/2015 07:11:22 AM'\n",
            " '09/18/2015 07:38:44 AM' ... '05/25/2017 04:34:36 PM'\n",
            " '05/25/2017 04:30:07 PM' '05/25/2017 04:37:37 PM']\n",
            "Breakdown_or_Running_Late: ['Running Late' 'Breakdown']\n",
            "School_Age_or_PreK: ['Pre-K' 'School-Age']\n",
            "\n",
            "Unique values after processing and filling missing values:\n",
            "School_Year: ['2015-2016' '2016-2017' '2017-2018' '2019-2020']\n",
            "Busbreakdown_ID: [1224901 1225098 1215800 ... 1353044 1353045 1353046]\n",
            "Run_Type: ['Pre-K/EI' 'Special Ed AM Run' 'General Ed AM Run' 'Special Ed PM Run'\n",
            " 'General Ed PM Run' 'Special Ed Field Trip' 'General Ed Field Trip'\n",
            " 'Project Read PM Run' 'Project Read AM Run' 'Project Read Field Trip']\n",
            "Bus_No: ['811' '9302' '358' ... '0096' 'GVC510' 'K9345']\n",
            "Route_Number: ['1' '2' 'P640' ... '012' '29AM' '1409B']\n",
            "Reason: ['Other' 'Heavy Traffic' 'Flat Tire' 'Mechanical Problem'\n",
            " 'Delayed by School' 'Problem Run' 'Late return from Field Trip'\n",
            " 'Won`t Start' 'Weather Conditions' 'Accident']\n",
            "Schools_Serviced: ['C353' 'C814' 'C195' ... 'C148' '02654, 02721,' '04377, 04454, 04658']\n",
            "Occurred_On: ['10/26/2015 08:30:00 AM' '10/27/2015 07:10:00 AM'\n",
            " '09/18/2015 07:36:00 AM' ... '05/25/2017 04:22:00 PM'\n",
            " '05/25/2017 04:27:00 PM' '05/25/2017 04:36:00 PM']\n",
            "Created_On: ['10/26/2015 08:40:00 AM' '10/27/2015 07:11:00 AM'\n",
            " '09/18/2015 07:38:00 AM' ... '05/25/2017 04:28:00 PM'\n",
            " '05/25/2017 04:30:00 PM' '05/25/2017 04:37:00 PM']\n",
            "Boro: ['Bronx' 'Queens' 'Brooklyn' 'Nassau County' 'Manhattan' 'Westchester'\n",
            " 'Staten Island' 'All Boroughs' 'Rockland County' 'Connecticut'\n",
            " 'New Jersey']\n",
            "Bus_Company_Name: ['G.V.C., LTD.' 'ACME BUS CORP. (B2321)' 'LORINDA ENT. LTD.'\n",
            " 'L & M BUS CORP.' 'BORO TRANSIT, INC.' 'NEW DAWN TRANSIT, LLC (B2'\n",
            " 'LOGAN BUS COMPANY INC.' 'HAPPY CHILD TRANS LLC (B2'\n",
            " 'BOBBY`S BUS CO. INC.' 'LEESEL TRANSP CORP (B2192' 'SNT BUS INC'\n",
            " 'MAR-CAN TRANSPORT CO. INC' 'LEESEL TRANSP CORP (B2192)'\n",
            " 'LITTLE RICHIE BUS SERVICE' 'B & F SKILLED INC.(B2192)'\n",
            " 'EMPIRE CHARTER SERVICE IN' 'PHILLIP BUS CORP (B2192)'\n",
            " 'ALLIED TRANSIT CORP.' 'RELIANT TRANS, INC. (B232' 'G.V.C. LTD. (B2192)'\n",
            " 'CONSOLIDATED BUS TRANS. I' 'LORISSA BUS SERVICE INC.'\n",
            " 'PIONEER TRANSPORTATION CO' 'HOYT TRANSPORTATION CORP.'\n",
            " 'GRANDPA`S BUS CO., INC.' 'PENNY TRANSPORTATION' 'FIRST STEPS'\n",
            " 'VAN TRANS LLC (B2192)' 'DON THOMAS BUSES, INC.' 'ANOTHER RIDE INC.'\n",
            " 'L & M BUS CORP. (B2192)' 'LOGAN TRANSPORTATION SYST'\n",
            " 'MUTUAL BUS CORP. (B2192)' 'FIRST STEPS TRANSP INC. ('\n",
            " 'L & M BUS CORP. (B2321)' 'SAFE COACH INC. (B2321)'\n",
            " 'ALL AMERICAN SCHOOL BUS C' 'MUTUAL BUS CORP. (B2321)'\n",
            " 'PRIDE TRANSPORTATION (SCH' 'QUALITY TRANSPORTATION CO'\n",
            " 'JOFAZ TRANSPORTATION INC.' 'MONTAUK STUDENT TRANS, IN'\n",
            " 'NEW DAWN TRANSIT, LLC (B2321)' 'TWENTY FIRST AV TRANSP (B' 'CAREFUL BUS'\n",
            " 'EMPIRE STATE BUS CORP.' 'ALL COUNTY BUS LLC (B2321'\n",
            " 'DON THOMAS BUSES, INC. (B' 'ALINA SERVICES CORP.' 'SMART PICK' 'MJT BUS'\n",
            " 'Y & M TRANSIT CORP (B2192' 'LITTLE LISA BUS CO. INC.'\n",
            " 'MV TRANSPORTATION, INC.' 'THOMAS BUSES, INC. (B2321'\n",
            " 'PHILLIPS BUS SERVICE' 'LITTLE LINDA BUS CO.,INC.'\n",
            " 'PIONEER TRANSPORTATION CORP' 'CHILDREN`S TRANS INC. (B2'\n",
            " 'THOMAS BUSES, INC.' 'Y & M TRANSIT CORP (B2321'\n",
            " 'THOMAS BUSES INC (B2192)' 'RELIANT TRANS, INC. (B2321)'\n",
            " 'L & M BUS CORP (A)' 'IC BUS INC. (PRE-K)' 'SELBY TRANS CORP. (B2192)'\n",
            " 'MAR-CAN TRANSPORT CO. INC (B2192)' 'I & Y TRANSIT CORP'\n",
            " 'EMPIRE CHARTER SERVICE INC' 'Y & M TRANSIT CORP (B2192)'\n",
            " 'ALL AMERICAN SCHOOL BUS CORP.' 'CAREFUL BUS SERVICE INC ('\n",
            " 'THIRD AVENUE TRANSIT' 'VINNY`S BUS SERVICES (B23'\n",
            " 'LOGAN TRANSPORTATION SYSTEMS' 'DON THOMAS BUSES, INC. (B2321)'\n",
            " 'FIRST STEPS TRANSP INC. (B2192)' 'FORTUNA BUS COMPANY'\n",
            " 'R & C TRANSIT, INC. (B232' 'HAPPY CHILD TRANS LLC (B2192)'\n",
            " 'CONSOLIDATED BUS TRANS. INC.' 'MONTAUK STUDENT TRANS LLC' 'alina'\n",
            " 'QUALITY TRANSPORTATION CORP.' 'RELIANT TRANS, INC.' 'VAN TRANS LLC'\n",
            " 'PRIDE TRANSPORTATION (SCH AGE)' 'phillip bus service' 'ADDIES'\n",
            " 'SAFE COACH INC.' 'SELBY TRANSPORTATION']\n",
            "How_Long_Delayed: ['10MINUTES' '25 MINUTES' '15 MINUTES' ... '40 -50 MIN' '80 MIN'\n",
            " '45 MINIUTE']\n",
            "Number_Of_Students_On_The_Bus: [   5    3   12   11    4    0    2    1    6   15   18    8    7   13\n",
            "   20    9   14   23   10   50   22 1492   19   25   17   26   44   27\n",
            "   31 1424   16   30   46  207  102 1011   21 1401   28   33 1371   37\n",
            "   76   52   40   24   51 1465 1329   32   65   29 1472   47   35 1315\n",
            " 1749   43 1420 1352 1500   60   45 1449   41  500 2368  138  156 9007\n",
            " 2154   36   55 2312 4802   38   42   48 2045  430  610 5554 3112 2680\n",
            "   49 2844   39   34 4533   63 6219 2252 1240   66   53 2085   54  105\n",
            " 2905  209  157  172 2365   58 1177   81  612  109  331 1331   91 2063\n",
            " 1402 1434 1411 5718 2550 2327 6209 2346 1384  280 2855]\n",
            "Has_Contractor_Notified_Schools: ['Yes' 'No']\n",
            "Has_Contractor_Notified_Parents: ['Yes' 'No']\n",
            "Have_You_Alerted_OPT: ['No' 'Yes']\n",
            "Informed_On: ['10/26/2015 08:40:00 AM' '10/27/2015 07:11:00 AM'\n",
            " '09/18/2015 07:38:00 AM' ... '05/25/2017 04:28:00 PM'\n",
            " '05/25/2017 04:30:00 PM' '05/25/2017 04:37:00 PM']\n",
            "Incident_Number: ['x' '2725956' '2776550' ... '90330033' '90333015' '90323827']\n",
            "Last_Updated_On: ['10/26/2015 08:40:39 AM' '10/27/2015 07:11:22 AM'\n",
            " '09/18/2015 07:38:44 AM' ... '05/25/2017 04:34:36 PM'\n",
            " '05/25/2017 04:30:07 PM' '05/25/2017 04:37:37 PM']\n",
            "Breakdown_or_Running_Late: ['Running Late' 'Breakdown']\n",
            "School_Age_or_PreK: ['Pre-K' 'School-Age']\n",
            "\n",
            "DataFrame after filling missing values:\n"
          ]
        },
        {
          "data": {
            "text/html": [
              "<div>\n",
              "<style scoped>\n",
              "    .dataframe tbody tr th:only-of-type {\n",
              "        vertical-align: middle;\n",
              "    }\n",
              "\n",
              "    .dataframe tbody tr th {\n",
              "        vertical-align: top;\n",
              "    }\n",
              "\n",
              "    .dataframe thead th {\n",
              "        text-align: right;\n",
              "    }\n",
              "</style>\n",
              "<table border=\"1\" class=\"dataframe\">\n",
              "  <thead>\n",
              "    <tr style=\"text-align: right;\">\n",
              "      <th></th>\n",
              "      <th>School_Year</th>\n",
              "      <th>Busbreakdown_ID</th>\n",
              "      <th>Run_Type</th>\n",
              "      <th>Bus_No</th>\n",
              "      <th>Route_Number</th>\n",
              "      <th>Reason</th>\n",
              "      <th>Schools_Serviced</th>\n",
              "      <th>Occurred_On</th>\n",
              "      <th>Created_On</th>\n",
              "      <th>Boro</th>\n",
              "      <th>...</th>\n",
              "      <th>How_Long_Delayed</th>\n",
              "      <th>Number_Of_Students_On_The_Bus</th>\n",
              "      <th>Has_Contractor_Notified_Schools</th>\n",
              "      <th>Has_Contractor_Notified_Parents</th>\n",
              "      <th>Have_You_Alerted_OPT</th>\n",
              "      <th>Informed_On</th>\n",
              "      <th>Incident_Number</th>\n",
              "      <th>Last_Updated_On</th>\n",
              "      <th>Breakdown_or_Running_Late</th>\n",
              "      <th>School_Age_or_PreK</th>\n",
              "    </tr>\n",
              "  </thead>\n",
              "  <tbody>\n",
              "    <tr>\n",
              "      <th>0</th>\n",
              "      <td>2015-2016</td>\n",
              "      <td>1224901</td>\n",
              "      <td>Pre-K/EI</td>\n",
              "      <td>811</td>\n",
              "      <td>1</td>\n",
              "      <td>Other</td>\n",
              "      <td>C353</td>\n",
              "      <td>10/26/2015 08:30:00 AM</td>\n",
              "      <td>10/26/2015 08:40:00 AM</td>\n",
              "      <td>Bronx</td>\n",
              "      <td>...</td>\n",
              "      <td>10MINUTES</td>\n",
              "      <td>5</td>\n",
              "      <td>Yes</td>\n",
              "      <td>Yes</td>\n",
              "      <td>No</td>\n",
              "      <td>10/26/2015 08:40:00 AM</td>\n",
              "      <td>x</td>\n",
              "      <td>10/26/2015 08:40:39 AM</td>\n",
              "      <td>Running Late</td>\n",
              "      <td>Pre-K</td>\n",
              "    </tr>\n",
              "    <tr>\n",
              "      <th>1</th>\n",
              "      <td>2015-2016</td>\n",
              "      <td>1225098</td>\n",
              "      <td>Pre-K/EI</td>\n",
              "      <td>9302</td>\n",
              "      <td>1</td>\n",
              "      <td>Heavy Traffic</td>\n",
              "      <td>C814</td>\n",
              "      <td>10/27/2015 07:10:00 AM</td>\n",
              "      <td>10/27/2015 07:11:00 AM</td>\n",
              "      <td>Bronx</td>\n",
              "      <td>...</td>\n",
              "      <td>25 MINUTES</td>\n",
              "      <td>3</td>\n",
              "      <td>Yes</td>\n",
              "      <td>Yes</td>\n",
              "      <td>No</td>\n",
              "      <td>10/27/2015 07:11:00 AM</td>\n",
              "      <td>x</td>\n",
              "      <td>10/27/2015 07:11:22 AM</td>\n",
              "      <td>Running Late</td>\n",
              "      <td>Pre-K</td>\n",
              "    </tr>\n",
              "    <tr>\n",
              "      <th>2</th>\n",
              "      <td>2015-2016</td>\n",
              "      <td>1215800</td>\n",
              "      <td>Pre-K/EI</td>\n",
              "      <td>358</td>\n",
              "      <td>2</td>\n",
              "      <td>Heavy Traffic</td>\n",
              "      <td>C195</td>\n",
              "      <td>09/18/2015 07:36:00 AM</td>\n",
              "      <td>09/18/2015 07:38:00 AM</td>\n",
              "      <td>Bronx</td>\n",
              "      <td>...</td>\n",
              "      <td>15 MINUTES</td>\n",
              "      <td>12</td>\n",
              "      <td>Yes</td>\n",
              "      <td>Yes</td>\n",
              "      <td>Yes</td>\n",
              "      <td>09/18/2015 07:38:00 AM</td>\n",
              "      <td>x</td>\n",
              "      <td>09/18/2015 07:38:44 AM</td>\n",
              "      <td>Running Late</td>\n",
              "      <td>Pre-K</td>\n",
              "    </tr>\n",
              "    <tr>\n",
              "      <th>3</th>\n",
              "      <td>2015-2016</td>\n",
              "      <td>1215511</td>\n",
              "      <td>Pre-K/EI</td>\n",
              "      <td>331</td>\n",
              "      <td>2</td>\n",
              "      <td>Other</td>\n",
              "      <td>C178</td>\n",
              "      <td>09/17/2015 08:08:00 AM</td>\n",
              "      <td>09/17/2015 08:12:00 AM</td>\n",
              "      <td>Bronx</td>\n",
              "      <td>...</td>\n",
              "      <td>10 minutes</td>\n",
              "      <td>11</td>\n",
              "      <td>Yes</td>\n",
              "      <td>Yes</td>\n",
              "      <td>Yes</td>\n",
              "      <td>09/17/2015 08:12:00 AM</td>\n",
              "      <td>x</td>\n",
              "      <td>09/17/2015 08:12:08 AM</td>\n",
              "      <td>Running Late</td>\n",
              "      <td>Pre-K</td>\n",
              "    </tr>\n",
              "    <tr>\n",
              "      <th>4</th>\n",
              "      <td>2015-2016</td>\n",
              "      <td>1215828</td>\n",
              "      <td>Pre-K/EI</td>\n",
              "      <td>332</td>\n",
              "      <td>2</td>\n",
              "      <td>Other</td>\n",
              "      <td>S176</td>\n",
              "      <td>09/18/2015 07:39:00 AM</td>\n",
              "      <td>09/18/2015 07:45:00 AM</td>\n",
              "      <td>Bronx</td>\n",
              "      <td>...</td>\n",
              "      <td>10MINUTES</td>\n",
              "      <td>12</td>\n",
              "      <td>Yes</td>\n",
              "      <td>Yes</td>\n",
              "      <td>No</td>\n",
              "      <td>09/18/2015 07:45:00 AM</td>\n",
              "      <td>x</td>\n",
              "      <td>09/18/2015 07:56:40 AM</td>\n",
              "      <td>Running Late</td>\n",
              "      <td>Pre-K</td>\n",
              "    </tr>\n",
              "    <tr>\n",
              "      <th>...</th>\n",
              "      <td>...</td>\n",
              "      <td>...</td>\n",
              "      <td>...</td>\n",
              "      <td>...</td>\n",
              "      <td>...</td>\n",
              "      <td>...</td>\n",
              "      <td>...</td>\n",
              "      <td>...</td>\n",
              "      <td>...</td>\n",
              "      <td>...</td>\n",
              "      <td>...</td>\n",
              "      <td>...</td>\n",
              "      <td>...</td>\n",
              "      <td>...</td>\n",
              "      <td>...</td>\n",
              "      <td>...</td>\n",
              "      <td>...</td>\n",
              "      <td>...</td>\n",
              "      <td>...</td>\n",
              "      <td>...</td>\n",
              "      <td>...</td>\n",
              "    </tr>\n",
              "    <tr>\n",
              "      <th>147967</th>\n",
              "      <td>2016-2017</td>\n",
              "      <td>1338452</td>\n",
              "      <td>Pre-K/EI</td>\n",
              "      <td>9345</td>\n",
              "      <td>2</td>\n",
              "      <td>Heavy Traffic</td>\n",
              "      <td>C530</td>\n",
              "      <td>04/05/2017 08:00:00 AM</td>\n",
              "      <td>04/05/2017 08:10:00 AM</td>\n",
              "      <td>Bronx</td>\n",
              "      <td>...</td>\n",
              "      <td>15-20</td>\n",
              "      <td>7</td>\n",
              "      <td>Yes</td>\n",
              "      <td>Yes</td>\n",
              "      <td>No</td>\n",
              "      <td>04/05/2017 08:10:00 AM</td>\n",
              "      <td>x</td>\n",
              "      <td>04/05/2017 08:10:15 AM</td>\n",
              "      <td>Running Late</td>\n",
              "      <td>Pre-K</td>\n",
              "    </tr>\n",
              "    <tr>\n",
              "      <th>147968</th>\n",
              "      <td>2016-2017</td>\n",
              "      <td>1341521</td>\n",
              "      <td>Pre-K/EI</td>\n",
              "      <td>0001</td>\n",
              "      <td>5</td>\n",
              "      <td>Heavy Traffic</td>\n",
              "      <td>C579</td>\n",
              "      <td>04/24/2017 07:42:00 AM</td>\n",
              "      <td>04/24/2017 07:44:00 AM</td>\n",
              "      <td>Bronx</td>\n",
              "      <td>...</td>\n",
              "      <td>20 MINS</td>\n",
              "      <td>0</td>\n",
              "      <td>Yes</td>\n",
              "      <td>Yes</td>\n",
              "      <td>No</td>\n",
              "      <td>04/24/2017 07:44:00 AM</td>\n",
              "      <td>x</td>\n",
              "      <td>04/24/2017 07:44:15 AM</td>\n",
              "      <td>Running Late</td>\n",
              "      <td>Pre-K</td>\n",
              "    </tr>\n",
              "    <tr>\n",
              "      <th>147969</th>\n",
              "      <td>2016-2017</td>\n",
              "      <td>1353044</td>\n",
              "      <td>Special Ed PM Run</td>\n",
              "      <td>GC0112</td>\n",
              "      <td>X928</td>\n",
              "      <td>Heavy Traffic</td>\n",
              "      <td>09003</td>\n",
              "      <td>05/25/2017 04:22:00 PM</td>\n",
              "      <td>05/25/2017 04:28:00 PM</td>\n",
              "      <td>Bronx</td>\n",
              "      <td>...</td>\n",
              "      <td>20-25MINS</td>\n",
              "      <td>0</td>\n",
              "      <td>Yes</td>\n",
              "      <td>Yes</td>\n",
              "      <td>Yes</td>\n",
              "      <td>05/25/2017 04:28:00 PM</td>\n",
              "      <td>90323827</td>\n",
              "      <td>05/25/2017 04:34:36 PM</td>\n",
              "      <td>Running Late</td>\n",
              "      <td>School-Age</td>\n",
              "    </tr>\n",
              "    <tr>\n",
              "      <th>147970</th>\n",
              "      <td>2016-2017</td>\n",
              "      <td>1353045</td>\n",
              "      <td>Special Ed PM Run</td>\n",
              "      <td>5525D</td>\n",
              "      <td>Q920</td>\n",
              "      <td>Won`t Start</td>\n",
              "      <td>24457</td>\n",
              "      <td>05/25/2017 04:27:00 PM</td>\n",
              "      <td>05/25/2017 04:30:00 PM</td>\n",
              "      <td>Queens</td>\n",
              "      <td>...</td>\n",
              "      <td>20 MINS</td>\n",
              "      <td>0</td>\n",
              "      <td>Yes</td>\n",
              "      <td>Yes</td>\n",
              "      <td>No</td>\n",
              "      <td>05/25/2017 04:30:00 PM</td>\n",
              "      <td>x</td>\n",
              "      <td>05/25/2017 04:30:07 PM</td>\n",
              "      <td>Breakdown</td>\n",
              "      <td>School-Age</td>\n",
              "    </tr>\n",
              "    <tr>\n",
              "      <th>147971</th>\n",
              "      <td>2016-2017</td>\n",
              "      <td>1353046</td>\n",
              "      <td>Project Read PM Run</td>\n",
              "      <td>2530</td>\n",
              "      <td>K617</td>\n",
              "      <td>Other</td>\n",
              "      <td>21436</td>\n",
              "      <td>05/25/2017 04:36:00 PM</td>\n",
              "      <td>05/25/2017 04:37:00 PM</td>\n",
              "      <td>Brooklyn</td>\n",
              "      <td>...</td>\n",
              "      <td>45min</td>\n",
              "      <td>7</td>\n",
              "      <td>Yes</td>\n",
              "      <td>Yes</td>\n",
              "      <td>Yes</td>\n",
              "      <td>05/25/2017 04:37:00 PM</td>\n",
              "      <td>x</td>\n",
              "      <td>05/25/2017 04:37:37 PM</td>\n",
              "      <td>Running Late</td>\n",
              "      <td>School-Age</td>\n",
              "    </tr>\n",
              "  </tbody>\n",
              "</table>\n",
              "<p>147972 rows × 21 columns</p>\n",
              "</div>"
            ],
            "text/plain": [
              "       School_Year  Busbreakdown_ID             Run_Type  Bus_No Route_Number  \\\n",
              "0        2015-2016          1224901             Pre-K/EI     811            1   \n",
              "1        2015-2016          1225098             Pre-K/EI    9302            1   \n",
              "2        2015-2016          1215800             Pre-K/EI     358            2   \n",
              "3        2015-2016          1215511             Pre-K/EI     331            2   \n",
              "4        2015-2016          1215828             Pre-K/EI     332            2   \n",
              "...            ...              ...                  ...     ...          ...   \n",
              "147967   2016-2017          1338452             Pre-K/EI    9345            2   \n",
              "147968   2016-2017          1341521             Pre-K/EI    0001            5   \n",
              "147969   2016-2017          1353044    Special Ed PM Run  GC0112         X928   \n",
              "147970   2016-2017          1353045    Special Ed PM Run   5525D         Q920   \n",
              "147971   2016-2017          1353046  Project Read PM Run    2530         K617   \n",
              "\n",
              "               Reason Schools_Serviced             Occurred_On  \\\n",
              "0               Other             C353  10/26/2015 08:30:00 AM   \n",
              "1       Heavy Traffic             C814  10/27/2015 07:10:00 AM   \n",
              "2       Heavy Traffic             C195  09/18/2015 07:36:00 AM   \n",
              "3               Other             C178  09/17/2015 08:08:00 AM   \n",
              "4               Other             S176  09/18/2015 07:39:00 AM   \n",
              "...               ...              ...                     ...   \n",
              "147967  Heavy Traffic             C530  04/05/2017 08:00:00 AM   \n",
              "147968  Heavy Traffic             C579  04/24/2017 07:42:00 AM   \n",
              "147969  Heavy Traffic            09003  05/25/2017 04:22:00 PM   \n",
              "147970    Won`t Start            24457  05/25/2017 04:27:00 PM   \n",
              "147971          Other            21436  05/25/2017 04:36:00 PM   \n",
              "\n",
              "                    Created_On      Boro  ... How_Long_Delayed  \\\n",
              "0       10/26/2015 08:40:00 AM     Bronx  ...        10MINUTES   \n",
              "1       10/27/2015 07:11:00 AM     Bronx  ...       25 MINUTES   \n",
              "2       09/18/2015 07:38:00 AM     Bronx  ...       15 MINUTES   \n",
              "3       09/17/2015 08:12:00 AM     Bronx  ...       10 minutes   \n",
              "4       09/18/2015 07:45:00 AM     Bronx  ...        10MINUTES   \n",
              "...                        ...       ...  ...              ...   \n",
              "147967  04/05/2017 08:10:00 AM     Bronx  ...            15-20   \n",
              "147968  04/24/2017 07:44:00 AM     Bronx  ...          20 MINS   \n",
              "147969  05/25/2017 04:28:00 PM     Bronx  ...        20-25MINS   \n",
              "147970  05/25/2017 04:30:00 PM    Queens  ...          20 MINS   \n",
              "147971  05/25/2017 04:37:00 PM  Brooklyn  ...            45min   \n",
              "\n",
              "       Number_Of_Students_On_The_Bus  Has_Contractor_Notified_Schools  \\\n",
              "0                                  5                              Yes   \n",
              "1                                  3                              Yes   \n",
              "2                                 12                              Yes   \n",
              "3                                 11                              Yes   \n",
              "4                                 12                              Yes   \n",
              "...                              ...                              ...   \n",
              "147967                             7                              Yes   \n",
              "147968                             0                              Yes   \n",
              "147969                             0                              Yes   \n",
              "147970                             0                              Yes   \n",
              "147971                             7                              Yes   \n",
              "\n",
              "       Has_Contractor_Notified_Parents Have_You_Alerted_OPT  \\\n",
              "0                                  Yes                   No   \n",
              "1                                  Yes                   No   \n",
              "2                                  Yes                  Yes   \n",
              "3                                  Yes                  Yes   \n",
              "4                                  Yes                   No   \n",
              "...                                ...                  ...   \n",
              "147967                             Yes                   No   \n",
              "147968                             Yes                   No   \n",
              "147969                             Yes                  Yes   \n",
              "147970                             Yes                   No   \n",
              "147971                             Yes                  Yes   \n",
              "\n",
              "                   Informed_On Incident_Number         Last_Updated_On  \\\n",
              "0       10/26/2015 08:40:00 AM               x  10/26/2015 08:40:39 AM   \n",
              "1       10/27/2015 07:11:00 AM               x  10/27/2015 07:11:22 AM   \n",
              "2       09/18/2015 07:38:00 AM               x  09/18/2015 07:38:44 AM   \n",
              "3       09/17/2015 08:12:00 AM               x  09/17/2015 08:12:08 AM   \n",
              "4       09/18/2015 07:45:00 AM               x  09/18/2015 07:56:40 AM   \n",
              "...                        ...             ...                     ...   \n",
              "147967  04/05/2017 08:10:00 AM               x  04/05/2017 08:10:15 AM   \n",
              "147968  04/24/2017 07:44:00 AM               x  04/24/2017 07:44:15 AM   \n",
              "147969  05/25/2017 04:28:00 PM        90323827  05/25/2017 04:34:36 PM   \n",
              "147970  05/25/2017 04:30:00 PM               x  05/25/2017 04:30:07 PM   \n",
              "147971  05/25/2017 04:37:00 PM               x  05/25/2017 04:37:37 PM   \n",
              "\n",
              "       Breakdown_or_Running_Late School_Age_or_PreK  \n",
              "0                   Running Late              Pre-K  \n",
              "1                   Running Late              Pre-K  \n",
              "2                   Running Late              Pre-K  \n",
              "3                   Running Late              Pre-K  \n",
              "4                   Running Late              Pre-K  \n",
              "...                          ...                ...  \n",
              "147967              Running Late              Pre-K  \n",
              "147968              Running Late              Pre-K  \n",
              "147969              Running Late         School-Age  \n",
              "147970                 Breakdown         School-Age  \n",
              "147971              Running Late         School-Age  \n",
              "\n",
              "[147972 rows x 21 columns]"
            ]
          },
          "execution_count": 75,
          "metadata": {},
          "output_type": "execute_result"
        }
      ],
      "source": [
        "print(\"Unique values before processing:\")\n",
        "for column in df.columns:\n",
        "    print(f\"{column}: {df[column].unique()}\")\n",
        "\n",
        "for column in df.columns:\n",
        "    df[column] = df[column].replace('na', np.nan)\n",
        "\n",
        "    if df[column].isnull().sum() > 0:\n",
        "        most_frequent = df[column].mode()[0]\n",
        "        df[column] = df[column].fillna(most_frequent)\n",
        "\n",
        "print(\"\\nUnique values after processing and filling missing values:\")\n",
        "for column in df.columns:\n",
        "    print(f\"{column}: {df[column].unique()}\")\n",
        "\n",
        "print(\"\\nDataFrame after filling missing values:\")\n",
        "df\n"
      ]
    },
    {
      "cell_type": "code",
      "execution_count": null,
      "id": "r9yAX_iH4Okf",
      "metadata": {
        "id": "r9yAX_iH4Okf"
      },
      "outputs": [],
      "source": []
    },
    {
      "cell_type": "markdown",
      "id": "1a559e40",
      "metadata": {
        "id": "1a559e40"
      },
      "source": [
        "## Data Preprocessing\n",
        "This could include:\n",
        "\n",
        "* **Handle Missing Values**\n",
        "    * Impute missing values or drop them.\n",
        "\n",
        "* **Encode Categorical Variables**\n",
        "    * One-hot encoding\n",
        "    * Label encoding\n",
        "\n",
        "* **Scale and Normalize Data**\n",
        "    * Standardization (Z-score)\n",
        "    * Min-Max scaling\n",
        "\n",
        "* **Feature Engineering**\n",
        "    * Create new features\n",
        "    * Feature selection\n",
        "\n",
        "* **Handle Imbalanced Data**\n",
        "    * Oversampling\n",
        "    * Undersampling\n",
        "\n",
        "* **Handle Outliers**\n",
        "    * Remove outliers\n",
        "    * Transform outliers\n",
        "\n",
        "* **Remove Duplicates**\n",
        "    * Remove redundant or duplicate data\n",
        "\n",
        "\n",
        "And add more as needed!\n",
        "\n",
        "Please treat these as suggestions. Feel free to use your judgment for the rest."
      ]
    },
    {
      "cell_type": "code",
      "execution_count": 76,
      "id": "rMCjy9Jo46vj",
      "metadata": {
        "id": "rMCjy9Jo46vj"
      },
      "outputs": [
        {
          "data": {
            "text/plain": [
              "School_Year                        object\n",
              "Busbreakdown_ID                     int64\n",
              "Run_Type                           object\n",
              "Bus_No                             object\n",
              "Route_Number                       object\n",
              "Reason                             object\n",
              "Schools_Serviced                   object\n",
              "Occurred_On                        object\n",
              "Created_On                         object\n",
              "Boro                               object\n",
              "Bus_Company_Name                   object\n",
              "How_Long_Delayed                   object\n",
              "Number_Of_Students_On_The_Bus       int64\n",
              "Has_Contractor_Notified_Schools    object\n",
              "Has_Contractor_Notified_Parents    object\n",
              "Have_You_Alerted_OPT               object\n",
              "Informed_On                        object\n",
              "Incident_Number                    object\n",
              "Last_Updated_On                    object\n",
              "Breakdown_or_Running_Late          object\n",
              "School_Age_or_PreK                 object\n",
              "dtype: object"
            ]
          },
          "execution_count": 76,
          "metadata": {},
          "output_type": "execute_result"
        }
      ],
      "source": [
        "df.dtypes"
      ]
    },
    {
      "cell_type": "code",
      "execution_count": 77,
      "id": "rJXHz1us42ge",
      "metadata": {
        "id": "rJXHz1us42ge"
      },
      "outputs": [
        {
          "data": {
            "text/html": [
              "<div>\n",
              "<style scoped>\n",
              "    .dataframe tbody tr th:only-of-type {\n",
              "        vertical-align: middle;\n",
              "    }\n",
              "\n",
              "    .dataframe tbody tr th {\n",
              "        vertical-align: top;\n",
              "    }\n",
              "\n",
              "    .dataframe thead th {\n",
              "        text-align: right;\n",
              "    }\n",
              "</style>\n",
              "<table border=\"1\" class=\"dataframe\">\n",
              "  <thead>\n",
              "    <tr style=\"text-align: right;\">\n",
              "      <th></th>\n",
              "      <th>Busbreakdown_ID</th>\n",
              "      <th>Number_Of_Students_On_The_Bus</th>\n",
              "    </tr>\n",
              "  </thead>\n",
              "  <tbody>\n",
              "    <tr>\n",
              "      <th>count</th>\n",
              "      <td>1.479720e+05</td>\n",
              "      <td>147972.000000</td>\n",
              "    </tr>\n",
              "    <tr>\n",
              "      <th>mean</th>\n",
              "      <td>1.287779e+06</td>\n",
              "      <td>3.590071</td>\n",
              "    </tr>\n",
              "    <tr>\n",
              "      <th>std</th>\n",
              "      <td>4.324338e+04</td>\n",
              "      <td>55.365859</td>\n",
              "    </tr>\n",
              "    <tr>\n",
              "      <th>min</th>\n",
              "      <td>1.212681e+06</td>\n",
              "      <td>0.000000</td>\n",
              "    </tr>\n",
              "    <tr>\n",
              "      <th>25%</th>\n",
              "      <td>1.250438e+06</td>\n",
              "      <td>0.000000</td>\n",
              "    </tr>\n",
              "    <tr>\n",
              "      <th>50%</th>\n",
              "      <td>1.287844e+06</td>\n",
              "      <td>0.000000</td>\n",
              "    </tr>\n",
              "    <tr>\n",
              "      <th>75%</th>\n",
              "      <td>1.325191e+06</td>\n",
              "      <td>4.000000</td>\n",
              "    </tr>\n",
              "    <tr>\n",
              "      <th>max</th>\n",
              "      <td>1.362605e+06</td>\n",
              "      <td>9007.000000</td>\n",
              "    </tr>\n",
              "  </tbody>\n",
              "</table>\n",
              "</div>"
            ],
            "text/plain": [
              "       Busbreakdown_ID  Number_Of_Students_On_The_Bus\n",
              "count     1.479720e+05                  147972.000000\n",
              "mean      1.287779e+06                       3.590071\n",
              "std       4.324338e+04                      55.365859\n",
              "min       1.212681e+06                       0.000000\n",
              "25%       1.250438e+06                       0.000000\n",
              "50%       1.287844e+06                       0.000000\n",
              "75%       1.325191e+06                       4.000000\n",
              "max       1.362605e+06                    9007.000000"
            ]
          },
          "execution_count": 77,
          "metadata": {},
          "output_type": "execute_result"
        }
      ],
      "source": [
        "df.describe()"
      ]
    },
    {
      "cell_type": "code",
      "execution_count": 78,
      "id": "e6867a7c",
      "metadata": {
        "id": "e6867a7c"
      },
      "outputs": [
        {
          "data": {
            "text/plain": [
              "['School_Year',\n",
              " 'Run_Type',\n",
              " 'Bus_No',\n",
              " 'Route_Number',\n",
              " 'Reason',\n",
              " 'Schools_Serviced',\n",
              " 'Occurred_On',\n",
              " 'Created_On',\n",
              " 'Boro',\n",
              " 'Bus_Company_Name',\n",
              " 'How_Long_Delayed',\n",
              " 'Has_Contractor_Notified_Schools',\n",
              " 'Has_Contractor_Notified_Parents',\n",
              " 'Have_You_Alerted_OPT',\n",
              " 'Informed_On',\n",
              " 'Incident_Number',\n",
              " 'Last_Updated_On',\n",
              " 'Breakdown_or_Running_Late',\n",
              " 'School_Age_or_PreK']"
            ]
          },
          "execution_count": 78,
          "metadata": {},
          "output_type": "execute_result"
        }
      ],
      "source": [
        "df1= df.select_dtypes(include=['object']).columns.tolist()\n",
        "\n",
        "df1\n"
      ]
    },
    {
      "cell_type": "code",
      "execution_count": 79,
      "id": "B6JtInni5IyU",
      "metadata": {
        "id": "B6JtInni5IyU"
      },
      "outputs": [
        {
          "data": {
            "text/html": [
              "<div>\n",
              "<style scoped>\n",
              "    .dataframe tbody tr th:only-of-type {\n",
              "        vertical-align: middle;\n",
              "    }\n",
              "\n",
              "    .dataframe tbody tr th {\n",
              "        vertical-align: top;\n",
              "    }\n",
              "\n",
              "    .dataframe thead th {\n",
              "        text-align: right;\n",
              "    }\n",
              "</style>\n",
              "<table border=\"1\" class=\"dataframe\">\n",
              "  <thead>\n",
              "    <tr style=\"text-align: right;\">\n",
              "      <th></th>\n",
              "      <th>School_Year</th>\n",
              "      <th>Busbreakdown_ID</th>\n",
              "      <th>Run_Type</th>\n",
              "      <th>Bus_No</th>\n",
              "      <th>Route_Number</th>\n",
              "      <th>Reason</th>\n",
              "      <th>Schools_Serviced</th>\n",
              "      <th>Occurred_On</th>\n",
              "      <th>Created_On</th>\n",
              "      <th>Boro</th>\n",
              "      <th>...</th>\n",
              "      <th>How_Long_Delayed</th>\n",
              "      <th>Number_Of_Students_On_The_Bus</th>\n",
              "      <th>Has_Contractor_Notified_Schools</th>\n",
              "      <th>Has_Contractor_Notified_Parents</th>\n",
              "      <th>Have_You_Alerted_OPT</th>\n",
              "      <th>Informed_On</th>\n",
              "      <th>Incident_Number</th>\n",
              "      <th>Last_Updated_On</th>\n",
              "      <th>Breakdown_or_Running_Late</th>\n",
              "      <th>School_Age_or_PreK</th>\n",
              "    </tr>\n",
              "  </thead>\n",
              "  <tbody>\n",
              "    <tr>\n",
              "      <th>0</th>\n",
              "      <td>0</td>\n",
              "      <td>1224901</td>\n",
              "      <td>3</td>\n",
              "      <td>7481</td>\n",
              "      <td>77</td>\n",
              "      <td>6</td>\n",
              "      <td>5003</td>\n",
              "      <td>56392</td>\n",
              "      <td>61017</td>\n",
              "      <td>1</td>\n",
              "      <td>...</td>\n",
              "      <td>191</td>\n",
              "      <td>5</td>\n",
              "      <td>1</td>\n",
              "      <td>1</td>\n",
              "      <td>0</td>\n",
              "      <td>61017</td>\n",
              "      <td>4663</td>\n",
              "      <td>116763</td>\n",
              "      <td>1</td>\n",
              "      <td>0</td>\n",
              "    </tr>\n",
              "    <tr>\n",
              "      <th>1</th>\n",
              "      <td>0</td>\n",
              "      <td>1225098</td>\n",
              "      <td>3</td>\n",
              "      <td>8114</td>\n",
              "      <td>77</td>\n",
              "      <td>3</td>\n",
              "      <td>5071</td>\n",
              "      <td>56698</td>\n",
              "      <td>61329</td>\n",
              "      <td>1</td>\n",
              "      <td>...</td>\n",
              "      <td>837</td>\n",
              "      <td>3</td>\n",
              "      <td>1</td>\n",
              "      <td>1</td>\n",
              "      <td>0</td>\n",
              "      <td>61329</td>\n",
              "      <td>4663</td>\n",
              "      <td>117361</td>\n",
              "      <td>1</td>\n",
              "      <td>0</td>\n",
              "    </tr>\n",
              "    <tr>\n",
              "      <th>2</th>\n",
              "      <td>0</td>\n",
              "      <td>1215800</td>\n",
              "      <td>3</td>\n",
              "      <td>4662</td>\n",
              "      <td>209</td>\n",
              "      <td>3</td>\n",
              "      <td>4969</td>\n",
              "      <td>48207</td>\n",
              "      <td>51829</td>\n",
              "      <td>1</td>\n",
              "      <td>...</td>\n",
              "      <td>335</td>\n",
              "      <td>12</td>\n",
              "      <td>1</td>\n",
              "      <td>1</td>\n",
              "      <td>1</td>\n",
              "      <td>51829</td>\n",
              "      <td>4663</td>\n",
              "      <td>98486</td>\n",
              "      <td>1</td>\n",
              "      <td>0</td>\n",
              "    </tr>\n",
              "    <tr>\n",
              "      <th>3</th>\n",
              "      <td>0</td>\n",
              "      <td>1215511</td>\n",
              "      <td>3</td>\n",
              "      <td>4547</td>\n",
              "      <td>209</td>\n",
              "      <td>6</td>\n",
              "      <td>4968</td>\n",
              "      <td>48064</td>\n",
              "      <td>51656</td>\n",
              "      <td>1</td>\n",
              "      <td>...</td>\n",
              "      <td>110</td>\n",
              "      <td>11</td>\n",
              "      <td>1</td>\n",
              "      <td>1</td>\n",
              "      <td>1</td>\n",
              "      <td>51656</td>\n",
              "      <td>4663</td>\n",
              "      <td>98208</td>\n",
              "      <td>1</td>\n",
              "      <td>0</td>\n",
              "    </tr>\n",
              "    <tr>\n",
              "      <th>4</th>\n",
              "      <td>0</td>\n",
              "      <td>1215828</td>\n",
              "      <td>3</td>\n",
              "      <td>4554</td>\n",
              "      <td>209</td>\n",
              "      <td>6</td>\n",
              "      <td>5149</td>\n",
              "      <td>48210</td>\n",
              "      <td>51836</td>\n",
              "      <td>1</td>\n",
              "      <td>...</td>\n",
              "      <td>191</td>\n",
              "      <td>12</td>\n",
              "      <td>1</td>\n",
              "      <td>1</td>\n",
              "      <td>0</td>\n",
              "      <td>51836</td>\n",
              "      <td>4663</td>\n",
              "      <td>98548</td>\n",
              "      <td>1</td>\n",
              "      <td>0</td>\n",
              "    </tr>\n",
              "  </tbody>\n",
              "</table>\n",
              "<p>5 rows × 21 columns</p>\n",
              "</div>"
            ],
            "text/plain": [
              "   School_Year  Busbreakdown_ID  Run_Type  Bus_No  Route_Number  Reason  \\\n",
              "0            0          1224901         3    7481            77       6   \n",
              "1            0          1225098         3    8114            77       3   \n",
              "2            0          1215800         3    4662           209       3   \n",
              "3            0          1215511         3    4547           209       6   \n",
              "4            0          1215828         3    4554           209       6   \n",
              "\n",
              "   Schools_Serviced  Occurred_On  Created_On  Boro  ...  How_Long_Delayed  \\\n",
              "0              5003        56392       61017     1  ...               191   \n",
              "1              5071        56698       61329     1  ...               837   \n",
              "2              4969        48207       51829     1  ...               335   \n",
              "3              4968        48064       51656     1  ...               110   \n",
              "4              5149        48210       51836     1  ...               191   \n",
              "\n",
              "   Number_Of_Students_On_The_Bus  Has_Contractor_Notified_Schools  \\\n",
              "0                              5                                1   \n",
              "1                              3                                1   \n",
              "2                             12                                1   \n",
              "3                             11                                1   \n",
              "4                             12                                1   \n",
              "\n",
              "   Has_Contractor_Notified_Parents  Have_You_Alerted_OPT  Informed_On  \\\n",
              "0                                1                     0        61017   \n",
              "1                                1                     0        61329   \n",
              "2                                1                     1        51829   \n",
              "3                                1                     1        51656   \n",
              "4                                1                     0        51836   \n",
              "\n",
              "   Incident_Number  Last_Updated_On  Breakdown_or_Running_Late  \\\n",
              "0             4663           116763                          1   \n",
              "1             4663           117361                          1   \n",
              "2             4663            98486                          1   \n",
              "3             4663            98208                          1   \n",
              "4             4663            98548                          1   \n",
              "\n",
              "   School_Age_or_PreK  \n",
              "0                   0  \n",
              "1                   0  \n",
              "2                   0  \n",
              "3                   0  \n",
              "4                   0  \n",
              "\n",
              "[5 rows x 21 columns]"
            ]
          },
          "execution_count": 79,
          "metadata": {},
          "output_type": "execute_result"
        }
      ],
      "source": [
        "from sklearn.preprocessing import LabelEncoder\n",
        "le = LabelEncoder()\n",
        "columns_to_encode =['School_Year',\n",
        " 'Run_Type',\n",
        " 'Bus_No',\n",
        " 'Route_Number',\n",
        " 'Reason',\n",
        " 'Schools_Serviced',\n",
        " 'Occurred_On',\n",
        " 'Created_On',\n",
        " 'Boro',\n",
        " 'Bus_Company_Name',\n",
        " 'How_Long_Delayed',\n",
        " 'Has_Contractor_Notified_Schools',\n",
        " 'Has_Contractor_Notified_Parents',\n",
        " 'Have_You_Alerted_OPT',\n",
        " 'Informed_On',\n",
        " 'Incident_Number',\n",
        " 'Last_Updated_On',\n",
        " 'Breakdown_or_Running_Late',\n",
        " 'School_Age_or_PreK']\n",
        "for column in columns_to_encode:\n",
        "    df[column] = le.fit_transform(df[column])\n",
        "\n",
        "df.head()\n"
      ]
    },
    {
      "cell_type": "code",
      "execution_count": 80,
      "id": "ovBu4zNn5Iu6",
      "metadata": {
        "id": "ovBu4zNn5Iu6"
      },
      "outputs": [
        {
          "data": {
            "text/plain": [
              "School_Year                        int32\n",
              "Busbreakdown_ID                    int64\n",
              "Run_Type                           int32\n",
              "Bus_No                             int32\n",
              "Route_Number                       int32\n",
              "Reason                             int32\n",
              "Schools_Serviced                   int32\n",
              "Occurred_On                        int32\n",
              "Created_On                         int32\n",
              "Boro                               int32\n",
              "Bus_Company_Name                   int32\n",
              "How_Long_Delayed                   int32\n",
              "Number_Of_Students_On_The_Bus      int64\n",
              "Has_Contractor_Notified_Schools    int32\n",
              "Has_Contractor_Notified_Parents    int32\n",
              "Have_You_Alerted_OPT               int32\n",
              "Informed_On                        int32\n",
              "Incident_Number                    int32\n",
              "Last_Updated_On                    int32\n",
              "Breakdown_or_Running_Late          int32\n",
              "School_Age_or_PreK                 int32\n",
              "dtype: object"
            ]
          },
          "execution_count": 80,
          "metadata": {},
          "output_type": "execute_result"
        }
      ],
      "source": [
        "df.dtypes"
      ]
    },
    {
      "cell_type": "code",
      "execution_count": 81,
      "id": "FJXi2Lps6a4E",
      "metadata": {
        "id": "FJXi2Lps6a4E"
      },
      "outputs": [],
      "source": [
        "X = df.drop(['Breakdown_or_Running_Late','Busbreakdown_ID'], axis=1)\n",
        "y = df['Breakdown_or_Running_Late']\n"
      ]
    },
    {
      "cell_type": "code",
      "execution_count": 82,
      "id": "_0T83j_p5IsE",
      "metadata": {
        "id": "_0T83j_p5IsE"
      },
      "outputs": [],
      "source": [
        "from sklearn.preprocessing import StandardScaler\n",
        "from sklearn.model_selection import StratifiedShuffleSplit\n",
        "sc = StandardScaler()\n",
        "X_sc = sc.fit_transform(X)\n"
      ]
    },
    {
      "cell_type": "markdown",
      "id": "bc887660",
      "metadata": {
        "id": "bc887660"
      },
      "source": [
        "## Split the Dataset\n",
        "Next, split the dataset into training, validation, and testing sets."
      ]
    },
    {
      "cell_type": "code",
      "execution_count": 83,
      "id": "fa5bbfd5",
      "metadata": {
        "id": "fa5bbfd5"
      },
      "outputs": [],
      "source": [
        "X_train ,X_test,y_trian,y_test =train_test_split(X_sc,y,test_size=0.3,random_state=42)"
      ]
    },
    {
      "cell_type": "markdown",
      "id": "7119b7d7",
      "metadata": {
        "id": "7119b7d7"
      },
      "source": [
        "## Building the ANN Model\n",
        "In this section, define the architecture of the ANN by specifying the number of layers, neurons, and activation functions."
      ]
    },
    {
      "cell_type": "code",
      "execution_count": 95,
      "id": "8532b3b9",
      "metadata": {
        "id": "8532b3b9"
      },
      "outputs": [
        {
          "name": "stderr",
          "output_type": "stream",
          "text": [
            "C:\\Users\\abdau\\AppData\\Roaming\\Python\\Python312\\site-packages\\keras\\src\\layers\\core\\dense.py:87: UserWarning: Do not pass an `input_shape`/`input_dim` argument to a layer. When using Sequential models, prefer using an `Input(shape)` object as the first layer in the model instead.\n",
            "  super().__init__(activity_regularizer=activity_regularizer, **kwargs)\n"
          ]
        },
        {
          "data": {
            "text/html": [
              "<pre style=\"white-space:pre;overflow-x:auto;line-height:normal;font-family:Menlo,'DejaVu Sans Mono',consolas,'Courier New',monospace\"><span style=\"font-weight: bold\">Model: \"sequential_10\"</span>\n",
              "</pre>\n"
            ],
            "text/plain": [
              "\u001b[1mModel: \"sequential_10\"\u001b[0m\n"
            ]
          },
          "metadata": {},
          "output_type": "display_data"
        },
        {
          "data": {
            "text/html": [
              "<pre style=\"white-space:pre;overflow-x:auto;line-height:normal;font-family:Menlo,'DejaVu Sans Mono',consolas,'Courier New',monospace\">┏━━━━━━━━━━━━━━━━━━━━━━━━━━━━━━━━━┳━━━━━━━━━━━━━━━━━━━━━━━━┳━━━━━━━━━━━━━━━┓\n",
              "┃<span style=\"font-weight: bold\"> Layer (type)                    </span>┃<span style=\"font-weight: bold\"> Output Shape           </span>┃<span style=\"font-weight: bold\">       Param # </span>┃\n",
              "┡━━━━━━━━━━━━━━━━━━━━━━━━━━━━━━━━━╇━━━━━━━━━━━━━━━━━━━━━━━━╇━━━━━━━━━━━━━━━┩\n",
              "│ dense_40 (<span style=\"color: #0087ff; text-decoration-color: #0087ff\">Dense</span>)                │ (<span style=\"color: #00d7ff; text-decoration-color: #00d7ff\">None</span>, <span style=\"color: #00af00; text-decoration-color: #00af00\">64</span>)             │         <span style=\"color: #00af00; text-decoration-color: #00af00\">1,280</span> │\n",
              "├─────────────────────────────────┼────────────────────────┼───────────────┤\n",
              "│ dense_41 (<span style=\"color: #0087ff; text-decoration-color: #0087ff\">Dense</span>)                │ (<span style=\"color: #00d7ff; text-decoration-color: #00d7ff\">None</span>, <span style=\"color: #00af00; text-decoration-color: #00af00\">32</span>)             │         <span style=\"color: #00af00; text-decoration-color: #00af00\">2,080</span> │\n",
              "├─────────────────────────────────┼────────────────────────┼───────────────┤\n",
              "│ dense_42 (<span style=\"color: #0087ff; text-decoration-color: #0087ff\">Dense</span>)                │ (<span style=\"color: #00d7ff; text-decoration-color: #00d7ff\">None</span>, <span style=\"color: #00af00; text-decoration-color: #00af00\">16</span>)             │           <span style=\"color: #00af00; text-decoration-color: #00af00\">528</span> │\n",
              "├─────────────────────────────────┼────────────────────────┼───────────────┤\n",
              "│ dense_43 (<span style=\"color: #0087ff; text-decoration-color: #0087ff\">Dense</span>)                │ (<span style=\"color: #00d7ff; text-decoration-color: #00d7ff\">None</span>, <span style=\"color: #00af00; text-decoration-color: #00af00\">1</span>)              │            <span style=\"color: #00af00; text-decoration-color: #00af00\">17</span> │\n",
              "└─────────────────────────────────┴────────────────────────┴───────────────┘\n",
              "</pre>\n"
            ],
            "text/plain": [
              "┏━━━━━━━━━━━━━━━━━━━━━━━━━━━━━━━━━┳━━━━━━━━━━━━━━━━━━━━━━━━┳━━━━━━━━━━━━━━━┓\n",
              "┃\u001b[1m \u001b[0m\u001b[1mLayer (type)                   \u001b[0m\u001b[1m \u001b[0m┃\u001b[1m \u001b[0m\u001b[1mOutput Shape          \u001b[0m\u001b[1m \u001b[0m┃\u001b[1m \u001b[0m\u001b[1m      Param #\u001b[0m\u001b[1m \u001b[0m┃\n",
              "┡━━━━━━━━━━━━━━━━━━━━━━━━━━━━━━━━━╇━━━━━━━━━━━━━━━━━━━━━━━━╇━━━━━━━━━━━━━━━┩\n",
              "│ dense_40 (\u001b[38;5;33mDense\u001b[0m)                │ (\u001b[38;5;45mNone\u001b[0m, \u001b[38;5;34m64\u001b[0m)             │         \u001b[38;5;34m1,280\u001b[0m │\n",
              "├─────────────────────────────────┼────────────────────────┼───────────────┤\n",
              "│ dense_41 (\u001b[38;5;33mDense\u001b[0m)                │ (\u001b[38;5;45mNone\u001b[0m, \u001b[38;5;34m32\u001b[0m)             │         \u001b[38;5;34m2,080\u001b[0m │\n",
              "├─────────────────────────────────┼────────────────────────┼───────────────┤\n",
              "│ dense_42 (\u001b[38;5;33mDense\u001b[0m)                │ (\u001b[38;5;45mNone\u001b[0m, \u001b[38;5;34m16\u001b[0m)             │           \u001b[38;5;34m528\u001b[0m │\n",
              "├─────────────────────────────────┼────────────────────────┼───────────────┤\n",
              "│ dense_43 (\u001b[38;5;33mDense\u001b[0m)                │ (\u001b[38;5;45mNone\u001b[0m, \u001b[38;5;34m1\u001b[0m)              │            \u001b[38;5;34m17\u001b[0m │\n",
              "└─────────────────────────────────┴────────────────────────┴───────────────┘\n"
            ]
          },
          "metadata": {},
          "output_type": "display_data"
        },
        {
          "data": {
            "text/html": [
              "<pre style=\"white-space:pre;overflow-x:auto;line-height:normal;font-family:Menlo,'DejaVu Sans Mono',consolas,'Courier New',monospace\"><span style=\"font-weight: bold\"> Total params: </span><span style=\"color: #00af00; text-decoration-color: #00af00\">3,905</span> (15.25 KB)\n",
              "</pre>\n"
            ],
            "text/plain": [
              "\u001b[1m Total params: \u001b[0m\u001b[38;5;34m3,905\u001b[0m (15.25 KB)\n"
            ]
          },
          "metadata": {},
          "output_type": "display_data"
        },
        {
          "data": {
            "text/html": [
              "<pre style=\"white-space:pre;overflow-x:auto;line-height:normal;font-family:Menlo,'DejaVu Sans Mono',consolas,'Courier New',monospace\"><span style=\"font-weight: bold\"> Trainable params: </span><span style=\"color: #00af00; text-decoration-color: #00af00\">3,905</span> (15.25 KB)\n",
              "</pre>\n"
            ],
            "text/plain": [
              "\u001b[1m Trainable params: \u001b[0m\u001b[38;5;34m3,905\u001b[0m (15.25 KB)\n"
            ]
          },
          "metadata": {},
          "output_type": "display_data"
        },
        {
          "data": {
            "text/html": [
              "<pre style=\"white-space:pre;overflow-x:auto;line-height:normal;font-family:Menlo,'DejaVu Sans Mono',consolas,'Courier New',monospace\"><span style=\"font-weight: bold\"> Non-trainable params: </span><span style=\"color: #00af00; text-decoration-color: #00af00\">0</span> (0.00 B)\n",
              "</pre>\n"
            ],
            "text/plain": [
              "\u001b[1m Non-trainable params: \u001b[0m\u001b[38;5;34m0\u001b[0m (0.00 B)\n"
            ]
          },
          "metadata": {},
          "output_type": "display_data"
        }
      ],
      "source": [
        "model = Sequential()\n",
        "\n",
        "model.add(Dense(units=64, activation='relu', input_shape=(X_train.shape[1],)))\n",
        "\n",
        "model.add(Dense(units=32, activation='relu'))\n",
        "model.add(Dense(units=16, activation='relu'))\n",
        "\n",
        "model.add(Dense(units=1, activation='sigmoid'))\n",
        "model.summary()"
      ]
    },
    {
      "cell_type": "code",
      "execution_count": 85,
      "id": "1ae878f9",
      "metadata": {},
      "outputs": [
        {
          "data": {
            "text/html": [
              "<pre style=\"white-space:pre;overflow-x:auto;line-height:normal;font-family:Menlo,'DejaVu Sans Mono',consolas,'Courier New',monospace\"><span style=\"font-weight: bold\">Model: \"sequential_7\"</span>\n",
              "</pre>\n"
            ],
            "text/plain": [
              "\u001b[1mModel: \"sequential_7\"\u001b[0m\n"
            ]
          },
          "metadata": {},
          "output_type": "display_data"
        },
        {
          "data": {
            "text/html": [
              "<pre style=\"white-space:pre;overflow-x:auto;line-height:normal;font-family:Menlo,'DejaVu Sans Mono',consolas,'Courier New',monospace\">┏━━━━━━━━━━━━━━━━━━━━━━━━━━━━━━━━━┳━━━━━━━━━━━━━━━━━━━━━━━━┳━━━━━━━━━━━━━━━┓\n",
              "┃<span style=\"font-weight: bold\"> Layer (type)                    </span>┃<span style=\"font-weight: bold\"> Output Shape           </span>┃<span style=\"font-weight: bold\">       Param # </span>┃\n",
              "┡━━━━━━━━━━━━━━━━━━━━━━━━━━━━━━━━━╇━━━━━━━━━━━━━━━━━━━━━━━━╇━━━━━━━━━━━━━━━┩\n",
              "│ dense_28 (<span style=\"color: #0087ff; text-decoration-color: #0087ff\">Dense</span>)                │ (<span style=\"color: #00d7ff; text-decoration-color: #00d7ff\">None</span>, <span style=\"color: #00af00; text-decoration-color: #00af00\">64</span>)             │         <span style=\"color: #00af00; text-decoration-color: #00af00\">1,280</span> │\n",
              "├─────────────────────────────────┼────────────────────────┼───────────────┤\n",
              "│ dense_29 (<span style=\"color: #0087ff; text-decoration-color: #0087ff\">Dense</span>)                │ (<span style=\"color: #00d7ff; text-decoration-color: #00d7ff\">None</span>, <span style=\"color: #00af00; text-decoration-color: #00af00\">32</span>)             │         <span style=\"color: #00af00; text-decoration-color: #00af00\">2,080</span> │\n",
              "├─────────────────────────────────┼────────────────────────┼───────────────┤\n",
              "│ dense_30 (<span style=\"color: #0087ff; text-decoration-color: #0087ff\">Dense</span>)                │ (<span style=\"color: #00d7ff; text-decoration-color: #00d7ff\">None</span>, <span style=\"color: #00af00; text-decoration-color: #00af00\">16</span>)             │           <span style=\"color: #00af00; text-decoration-color: #00af00\">528</span> │\n",
              "├─────────────────────────────────┼────────────────────────┼───────────────┤\n",
              "│ dense_31 (<span style=\"color: #0087ff; text-decoration-color: #0087ff\">Dense</span>)                │ (<span style=\"color: #00d7ff; text-decoration-color: #00d7ff\">None</span>, <span style=\"color: #00af00; text-decoration-color: #00af00\">3</span>)              │            <span style=\"color: #00af00; text-decoration-color: #00af00\">51</span> │\n",
              "└─────────────────────────────────┴────────────────────────┴───────────────┘\n",
              "</pre>\n"
            ],
            "text/plain": [
              "┏━━━━━━━━━━━━━━━━━━━━━━━━━━━━━━━━━┳━━━━━━━━━━━━━━━━━━━━━━━━┳━━━━━━━━━━━━━━━┓\n",
              "┃\u001b[1m \u001b[0m\u001b[1mLayer (type)                   \u001b[0m\u001b[1m \u001b[0m┃\u001b[1m \u001b[0m\u001b[1mOutput Shape          \u001b[0m\u001b[1m \u001b[0m┃\u001b[1m \u001b[0m\u001b[1m      Param #\u001b[0m\u001b[1m \u001b[0m┃\n",
              "┡━━━━━━━━━━━━━━━━━━━━━━━━━━━━━━━━━╇━━━━━━━━━━━━━━━━━━━━━━━━╇━━━━━━━━━━━━━━━┩\n",
              "│ dense_28 (\u001b[38;5;33mDense\u001b[0m)                │ (\u001b[38;5;45mNone\u001b[0m, \u001b[38;5;34m64\u001b[0m)             │         \u001b[38;5;34m1,280\u001b[0m │\n",
              "├─────────────────────────────────┼────────────────────────┼───────────────┤\n",
              "│ dense_29 (\u001b[38;5;33mDense\u001b[0m)                │ (\u001b[38;5;45mNone\u001b[0m, \u001b[38;5;34m32\u001b[0m)             │         \u001b[38;5;34m2,080\u001b[0m │\n",
              "├─────────────────────────────────┼────────────────────────┼───────────────┤\n",
              "│ dense_30 (\u001b[38;5;33mDense\u001b[0m)                │ (\u001b[38;5;45mNone\u001b[0m, \u001b[38;5;34m16\u001b[0m)             │           \u001b[38;5;34m528\u001b[0m │\n",
              "├─────────────────────────────────┼────────────────────────┼───────────────┤\n",
              "│ dense_31 (\u001b[38;5;33mDense\u001b[0m)                │ (\u001b[38;5;45mNone\u001b[0m, \u001b[38;5;34m3\u001b[0m)              │            \u001b[38;5;34m51\u001b[0m │\n",
              "└─────────────────────────────────┴────────────────────────┴───────────────┘\n"
            ]
          },
          "metadata": {},
          "output_type": "display_data"
        },
        {
          "data": {
            "text/html": [
              "<pre style=\"white-space:pre;overflow-x:auto;line-height:normal;font-family:Menlo,'DejaVu Sans Mono',consolas,'Courier New',monospace\"><span style=\"font-weight: bold\"> Total params: </span><span style=\"color: #00af00; text-decoration-color: #00af00\">3,939</span> (15.39 KB)\n",
              "</pre>\n"
            ],
            "text/plain": [
              "\u001b[1m Total params: \u001b[0m\u001b[38;5;34m3,939\u001b[0m (15.39 KB)\n"
            ]
          },
          "metadata": {},
          "output_type": "display_data"
        },
        {
          "data": {
            "text/html": [
              "<pre style=\"white-space:pre;overflow-x:auto;line-height:normal;font-family:Menlo,'DejaVu Sans Mono',consolas,'Courier New',monospace\"><span style=\"font-weight: bold\"> Trainable params: </span><span style=\"color: #00af00; text-decoration-color: #00af00\">3,939</span> (15.39 KB)\n",
              "</pre>\n"
            ],
            "text/plain": [
              "\u001b[1m Trainable params: \u001b[0m\u001b[38;5;34m3,939\u001b[0m (15.39 KB)\n"
            ]
          },
          "metadata": {},
          "output_type": "display_data"
        },
        {
          "data": {
            "text/html": [
              "<pre style=\"white-space:pre;overflow-x:auto;line-height:normal;font-family:Menlo,'DejaVu Sans Mono',consolas,'Courier New',monospace\"><span style=\"font-weight: bold\"> Non-trainable params: </span><span style=\"color: #00af00; text-decoration-color: #00af00\">0</span> (0.00 B)\n",
              "</pre>\n"
            ],
            "text/plain": [
              "\u001b[1m Non-trainable params: \u001b[0m\u001b[38;5;34m0\u001b[0m (0.00 B)\n"
            ]
          },
          "metadata": {},
          "output_type": "display_data"
        }
      ],
      "source": [
        "model = Sequential()\n",
        "\n",
        "model.add(Dense(units=64, activation='relu', input_shape=(X_train.shape[1],)))\n",
        "\n",
        "model.add(Dense(units=32, activation='relu'))\n",
        "model.add(Dense(units=16, activation='relu'))\n",
        "\n",
        "model.add(Dense(units=3, activation='softmax'))\n",
        "model.summary()"
      ]
    },
    {
      "cell_type": "code",
      "execution_count": 86,
      "id": "8bb68134",
      "metadata": {},
      "outputs": [],
      "source": [
        "model.compile(optimizer='adam', loss='sparse_categorical_crossentropy', metrics=['accuracy'])\n"
      ]
    },
    {
      "cell_type": "code",
      "execution_count": 96,
      "id": "7fc38ca4",
      "metadata": {},
      "outputs": [],
      "source": [
        "model.compile(optimizer='adam', loss='binary_crossentropy', metrics=['accuracy'])\n"
      ]
    },
    {
      "cell_type": "code",
      "execution_count": 88,
      "id": "ab363be3",
      "metadata": {
        "id": "ab363be3"
      },
      "outputs": [
        {
          "data": {
            "text/plain": [
              "<Sequential name=sequential_7, built=True>"
            ]
          },
          "execution_count": 88,
          "metadata": {},
          "output_type": "execute_result"
        }
      ],
      "source": [
        "model"
      ]
    },
    {
      "cell_type": "markdown",
      "id": "e9a72223",
      "metadata": {
        "id": "e9a72223"
      },
      "source": [
        "## Training the Model\n",
        "Train the ANN model using the training data."
      ]
    },
    {
      "cell_type": "code",
      "execution_count": 98,
      "id": "e44446fe",
      "metadata": {},
      "outputs": [
        {
          "name": "stdout",
          "output_type": "stream",
          "text": [
            "Epoch 1/10\n",
            "\u001b[1m3237/3237\u001b[0m \u001b[32m━━━━━━━━━━━━━━━━━━━━\u001b[0m\u001b[37m\u001b[0m \u001b[1m3s\u001b[0m 716us/step - accuracy: 0.9229 - loss: 0.1993 - val_accuracy: 0.9590 - val_loss: 0.0966\n",
            "Epoch 2/10\n",
            "\u001b[1m3237/3237\u001b[0m \u001b[32m━━━━━━━━━━━━━━━━━━━━\u001b[0m\u001b[37m\u001b[0m \u001b[1m2s\u001b[0m 695us/step - accuracy: 0.9640 - loss: 0.0872 - val_accuracy: 0.9723 - val_loss: 0.0717\n",
            "Epoch 3/10\n",
            "\u001b[1m3237/3237\u001b[0m \u001b[32m━━━━━━━━━━━━━━━━━━━━\u001b[0m\u001b[37m\u001b[0m \u001b[1m2s\u001b[0m 694us/step - accuracy: 0.9744 - loss: 0.0668 - val_accuracy: 0.9790 - val_loss: 0.0564\n",
            "Epoch 4/10\n",
            "\u001b[1m3237/3237\u001b[0m \u001b[32m━━━━━━━━━━━━━━━━━━━━\u001b[0m\u001b[37m\u001b[0m \u001b[1m2s\u001b[0m 694us/step - accuracy: 0.9800 - loss: 0.0533 - val_accuracy: 0.9802 - val_loss: 0.0532\n",
            "Epoch 5/10\n",
            "\u001b[1m3237/3237\u001b[0m \u001b[32m━━━━━━━━━━━━━━━━━━━━\u001b[0m\u001b[37m\u001b[0m \u001b[1m2s\u001b[0m 671us/step - accuracy: 0.9823 - loss: 0.0472 - val_accuracy: 0.9809 - val_loss: 0.0501\n",
            "Epoch 6/10\n",
            "\u001b[1m3237/3237\u001b[0m \u001b[32m━━━━━━━━━━━━━━━━━━━━\u001b[0m\u001b[37m\u001b[0m \u001b[1m2s\u001b[0m 669us/step - accuracy: 0.9822 - loss: 0.0458 - val_accuracy: 0.9816 - val_loss: 0.0491\n",
            "Epoch 7/10\n",
            "\u001b[1m3237/3237\u001b[0m \u001b[32m━━━━━━━━━━━━━━━━━━━━\u001b[0m\u001b[37m\u001b[0m \u001b[1m2s\u001b[0m 709us/step - accuracy: 0.9835 - loss: 0.0431 - val_accuracy: 0.9822 - val_loss: 0.0467\n",
            "Epoch 8/10\n",
            "\u001b[1m3237/3237\u001b[0m \u001b[32m━━━━━━━━━━━━━━━━━━━━\u001b[0m\u001b[37m\u001b[0m \u001b[1m2s\u001b[0m 695us/step - accuracy: 0.9834 - loss: 0.0435 - val_accuracy: 0.9827 - val_loss: 0.0485\n",
            "Epoch 9/10\n",
            "\u001b[1m3237/3237\u001b[0m \u001b[32m━━━━━━━━━━━━━━━━━━━━\u001b[0m\u001b[37m\u001b[0m \u001b[1m2s\u001b[0m 685us/step - accuracy: 0.9839 - loss: 0.0421 - val_accuracy: 0.9829 - val_loss: 0.0475\n",
            "Epoch 10/10\n",
            "\u001b[1m3237/3237\u001b[0m \u001b[32m━━━━━━━━━━━━━━━━━━━━\u001b[0m\u001b[37m\u001b[0m \u001b[1m2s\u001b[0m 699us/step - accuracy: 0.9839 - loss: 0.0423 - val_accuracy: 0.9807 - val_loss: 0.0513\n"
          ]
        }
      ],
      "source": [
        "history1=model.fit(X_train,y_trian,epochs=10,validation_data=(X_test,y_test))"
      ]
    },
    {
      "cell_type": "code",
      "execution_count": null,
      "id": "e43fedab",
      "metadata": {
        "id": "e43fedab"
      },
      "outputs": [
        {
          "name": "stdout",
          "output_type": "stream",
          "text": [
            "Epoch 1/10\n",
            "\u001b[1m3237/3237\u001b[0m \u001b[32m━━━━━━━━━━━━━━━━━━━━\u001b[0m\u001b[37m\u001b[0m \u001b[1m3s\u001b[0m 747us/step - accuracy: 0.9031 - loss: 0.2444 - val_accuracy: 0.9582 - val_loss: 0.0972\n",
            "Epoch 2/10\n",
            "\u001b[1m3237/3237\u001b[0m \u001b[32m━━━━━━━━━━━━━━━━━━━━\u001b[0m\u001b[37m\u001b[0m \u001b[1m2s\u001b[0m 700us/step - accuracy: 0.9617 - loss: 0.0931 - val_accuracy: 0.9696 - val_loss: 0.0761\n",
            "Epoch 3/10\n",
            "\u001b[1m3237/3237\u001b[0m \u001b[32m━━━━━━━━━━━━━━━━━━━━\u001b[0m\u001b[37m\u001b[0m \u001b[1m2s\u001b[0m 687us/step - accuracy: 0.9735 - loss: 0.0668 - val_accuracy: 0.9747 - val_loss: 0.0714\n",
            "Epoch 4/10\n",
            "\u001b[1m3237/3237\u001b[0m \u001b[32m━━━━━━━━━━━━━━━━━━━━\u001b[0m\u001b[37m\u001b[0m \u001b[1m2s\u001b[0m 681us/step - accuracy: 0.9775 - loss: 0.0583 - val_accuracy: 0.9803 - val_loss: 0.0535\n",
            "Epoch 5/10\n",
            "\u001b[1m3237/3237\u001b[0m \u001b[32m━━━━━━━━━━━━━━━━━━━━\u001b[0m\u001b[37m\u001b[0m \u001b[1m2s\u001b[0m 730us/step - accuracy: 0.9815 - loss: 0.0507 - val_accuracy: 0.9816 - val_loss: 0.0495\n",
            "Epoch 6/10\n",
            "\u001b[1m3237/3237\u001b[0m \u001b[32m━━━━━━━━━━━━━━━━━━━━\u001b[0m\u001b[37m\u001b[0m \u001b[1m2s\u001b[0m 677us/step - accuracy: 0.9824 - loss: 0.0465 - val_accuracy: 0.9818 - val_loss: 0.0501\n",
            "Epoch 7/10\n",
            "\u001b[1m3237/3237\u001b[0m \u001b[32m━━━━━━━━━━━━━━━━━━━━\u001b[0m\u001b[37m\u001b[0m \u001b[1m2s\u001b[0m 725us/step - accuracy: 0.9830 - loss: 0.0475 - val_accuracy: 0.9824 - val_loss: 0.0473\n",
            "Epoch 8/10\n",
            "\u001b[1m3237/3237\u001b[0m \u001b[32m━━━━━━━━━━━━━━━━━━━━\u001b[0m\u001b[37m\u001b[0m \u001b[1m2s\u001b[0m 709us/step - accuracy: 0.9836 - loss: 0.0431 - val_accuracy: 0.9824 - val_loss: 0.0476\n",
            "Epoch 9/10\n",
            "\u001b[1m3237/3237\u001b[0m \u001b[32m━━━━━━━━━━━━━━━━━━━━\u001b[0m\u001b[37m\u001b[0m \u001b[1m2s\u001b[0m 684us/step - accuracy: 0.9840 - loss: 0.0418 - val_accuracy: 0.9828 - val_loss: 0.0501\n",
            "Epoch 10/10\n",
            "\u001b[1m3237/3237\u001b[0m \u001b[32m━━━━━━━━━━━━━━━━━━━━\u001b[0m\u001b[37m\u001b[0m \u001b[1m2s\u001b[0m 694us/step - accuracy: 0.9845 - loss: 0.0408 - val_accuracy: 0.9828 - val_loss: 0.0461\n"
          ]
        }
      ],
      "source": [
        "history=model.fit(X_train,y_trian,epochs=10,validation_data=(X_test,y_test))"
      ]
    },
    {
      "cell_type": "markdown",
      "id": "20ce9661",
      "metadata": {
        "id": "20ce9661"
      },
      "source": [
        "## Evaluate the Model\n",
        "Evaluate the performance of the model on the test set."
      ]
    },
    {
      "cell_type": "code",
      "execution_count": 99,
      "id": "de5ead17",
      "metadata": {},
      "outputs": [
        {
          "name": "stdout",
          "output_type": "stream",
          "text": [
            "\u001b[1m1388/1388\u001b[0m \u001b[32m━━━━━━━━━━━━━━━━━━━━\u001b[0m\u001b[37m\u001b[0m \u001b[1m1s\u001b[0m 371us/step - accuracy: 0.9805 - loss: 0.0532\n"
          ]
        }
      ],
      "source": [
        "history1 = model.evaluate(X_test,y_test)"
      ]
    },
    {
      "cell_type": "code",
      "execution_count": null,
      "id": "73167afc",
      "metadata": {
        "id": "73167afc"
      },
      "outputs": [
        {
          "name": "stdout",
          "output_type": "stream",
          "text": [
            "\u001b[1m1388/1388\u001b[0m \u001b[32m━━━━━━━━━━━━━━━━━━━━\u001b[0m\u001b[37m\u001b[0m \u001b[1m1s\u001b[0m 449us/step - accuracy: 0.9826 - loss: 0.0474\n"
          ]
        },
        {
          "data": {
            "text/plain": [
              "[0.04607729613780975, 0.9827671647071838]"
            ]
          },
          "execution_count": 94,
          "metadata": {},
          "output_type": "execute_result"
        }
      ],
      "source": [
        "model.evaluate(X_test,y_test)"
      ]
    },
    {
      "cell_type": "markdown",
      "id": "08e9bc87",
      "metadata": {
        "id": "08e9bc87"
      },
      "source": [
        "## Make Predictions\n",
        "Use the trained model to make predictions on new or unseen data."
      ]
    },
    {
      "cell_type": "code",
      "execution_count": null,
      "id": "940fa394",
      "metadata": {
        "id": "940fa394"
      },
      "outputs": [
        {
          "name": "stdout",
          "output_type": "stream",
          "text": [
            "\u001b[1m1388/1388\u001b[0m \u001b[32m━━━━━━━━━━━━━━━━━━━━\u001b[0m\u001b[37m\u001b[0m \u001b[1m1s\u001b[0m 456us/step\n"
          ]
        },
        {
          "data": {
            "text/plain": [
              "array([[1.4648955e-06, 9.9999857e-01, 3.7024690e-24],\n",
              "       [1.6269934e-05, 9.9998379e-01, 2.0052166e-19],\n",
              "       [8.0467034e-06, 9.9999189e-01, 1.4708021e-20],\n",
              "       ...,\n",
              "       [1.7411480e-04, 9.9982589e-01, 6.5624497e-16],\n",
              "       [5.0365808e-04, 9.9949634e-01, 4.5990051e-16],\n",
              "       [1.6136632e-25, 1.0000000e+00, 0.0000000e+00]], dtype=float32)"
            ]
          },
          "execution_count": 95,
          "metadata": {},
          "output_type": "execute_result"
        }
      ],
      "source": [
        "model.predict(X_test)"
      ]
    },
    {
      "cell_type": "markdown",
      "id": "94942463",
      "metadata": {
        "id": "94942463"
      },
      "source": [
        "## Model Performance Visualization\n",
        "Visualize the performance metrics such as accuracy and loss over the epochs."
      ]
    },
    {
      "cell_type": "code",
      "execution_count": null,
      "id": "b1955952",
      "metadata": {
        "id": "b1955952"
      },
      "outputs": [
        {
          "data": {
            "image/png": "[encoded data removed]",
            "text/plain": [
              "<Figure size 640x480 with 1 Axes>"
            ]
          },
          "metadata": {},
          "output_type": "display_data"
        },
        {
          "data": {
            "image/png": "[encoded data removed]",
            "text/plain": [
              "<Figure size 640x480 with 1 Axes>"
            ]
          },
          "metadata": {},
          "output_type": "display_data"
        }
      ],
      "source": [
        "plt.plot(history.history['accuracy'], label='Train Accuracy')\n",
        "plt.plot(history.history['val_accuracy'], label='Test Accuracy')\n",
        "plt.show()\n",
        "\n",
        "plt.plot(history.history['loss'], label='Train Loss')\n",
        "plt.plot(history.history['val_loss'], label='Test Loss')\n",
        "plt.show()"
      ]
    },
    {
      "cell_type": "markdown",
      "id": "1d32965f",
      "metadata": {
        "id": "1d32965f"
      },
      "source": [
        "## Save the Model\n",
        "Save the trained model for submission."
      ]
    },
    {
      "cell_type": "code",
      "execution_count": null,
      "id": "a4e1f00e",
      "metadata": {
        "id": "a4e1f00e"
      },
      "outputs": [
        {
          "name": "stderr",
          "output_type": "stream",
          "text": [
            "WARNING:absl:You are saving your model as an HDF5 file via `model.save()` or `keras.saving.save_model(model)`. This file format is considered legacy. We recommend using instead the native Keras format, e.g. `model.save('my_model.keras')` or `keras.saving.save_model(model, 'my_model.keras')`. \n"
          ]
        }
      ],
      "source": [
        "model.save(\"model.h5\") "
      ]
    },
    {
      "cell_type": "markdown",
      "id": "9ebe9b8d",
      "metadata": {
        "id": "9ebe9b8d"
      },
      "source": [
        "## Project Questions:\n",
        "\n",
        "1. **Data Preprocessing**: Explain why you chose your specific data preprocessing techniques (e.g., normalization, encoding). How did these techniques help prepare the data for training the model?\n",
        "2. **Model Architecture**: Describe the reasoning behind your model’s architecture (e.g., the number of layers, type of layers, number of neurons, and activation functions). Why did you believe this architecture was appropriate for the problem at hand?\n",
        "3. **Training Process**: Discuss why you chose your batch size, number of epochs, and optimizer. How did these choices affect the training process? Did you experiment with different values, and what were the outcomes?\n",
        "4. **Loss Function and Metrics**: Why did you choose the specific loss function and evaluation metrics? How do they align with the objective of the task (e.g., regression vs classification)?\n",
        "5. **Regularization Techniques**: If you used regularization techniques such as dropout or weight decay, explain why you implemented them and how they influenced the model's performance.\n",
        "6. **Model Evaluation**: Justify your approach to evaluating the model. Why did you choose the specific performance metrics, and how do they reflect the model's success in solving the task?\n",
        "7. **Model Tuning (If Done)**: Describe any tuning you performed (e.g., hyperparameter tuning) and why you felt it was necessary. How did these adjustments improve model performance?\n",
        "8. **Overfitting and Underfitting**: Analyze whether the model encountered any overfitting or underfitting during training. What strategies could you implement to mitigate these issues?"
      ]
    },
    {
      "cell_type": "markdown",
      "id": "5f524a61",
      "metadata": {
        "id": "5f524a61"
      },
      "source": [
        "### Answer Here:"
      ]
    }
  ],
  "metadata": {
    "accelerator": "GPU",
    "colab": {
      "gpuType": "T4",
      "provenance": []
    },
    "kernelspec": {
      "display_name": "Python 3",
      "name": "python3"
    },
    "language_info": {
      "codemirror_mode": {
        "name": "ipython",
        "version": 3
      },
      "file_extension": ".py",
      "mimetype": "text/x-python",
      "name": "python",
      "nbconvert_exporter": "python",
      "pygments_lexer": "ipython3",
      "version": "3.12.2"
    }
  },
  "nbformat": 4,
  "nbformat_minor": 5
}
